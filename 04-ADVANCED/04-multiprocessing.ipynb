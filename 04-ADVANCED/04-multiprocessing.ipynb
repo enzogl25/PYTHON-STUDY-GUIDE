{
 "cells": [
  {
   "cell_type": "markdown",
   "metadata": {},
   "source": [
    "### 🧠 Why Use Multiprocessing?"
   ]
  },
  {
   "cell_type": "markdown",
   "metadata": {},
   "source": [
    "Multithreading in Python is limited by the **GIL** (Global Interpreter Lock).\n",
    "\n",
    "If your task is **CPU-bound** (e.g. math-heavy loops, data processing), use **multiprocessing** for real parallelism.\n",
    "\n",
    "Python’s `multiprocessing` module lets you run code on **multiple CPU cores**."
   ]
  },
  {
   "cell_type": "code",
   "execution_count": 3,
   "metadata": {},
   "outputs": [
    {
     "name": "stdout",
     "output_type": "stream",
     "text": [
      "Both processes are done!\n"
     ]
    }
   ],
   "source": [
    "from multiprocessing import Process\n",
    "import time\n",
    "\n",
    "def task1():\n",
    "    for _ in range(5):\n",
    "        print(\"Task 1\")\n",
    "        time.sleep(1)\n",
    "\n",
    "def task2():\n",
    "    for _ in range(5):\n",
    "        print(\"Task 2\")\n",
    "        time.sleep(1)\n",
    "\n",
    "# Create processes\n",
    "p1 = Process(target=task1)\n",
    "p2 = Process(target=task2)\n",
    "\n",
    "# Start processes\n",
    "p1.start()\n",
    "p2.start()\n",
    "\n",
    "# Wait for them to finish\n",
    "p1.join()\n",
    "p2.join()\n",
    "\n",
    "print(\"Both processes are done!\")"
   ]
  },
  {
   "cell_type": "markdown",
   "metadata": {},
   "source": [
    "✅ Compare With Threading"
   ]
  },
  {
   "cell_type": "markdown",
   "metadata": {},
   "source": [
    "Try running the same functions with threading.\n",
    "\n",
    "Thread and you’ll notice similar behavior, but only multiprocessing actually uses multiple CPU cores."
   ]
  },
  {
   "cell_type": "markdown",
   "metadata": {},
   "source": [
    "✅ CPU-Intensive Example: Squaring Numbers"
   ]
  },
  {
   "cell_type": "code",
   "execution_count": 2,
   "metadata": {},
   "outputs": [
    {
     "name": "stdout",
     "output_type": "stream",
     "text": [
      "CPU-intensive task done!\n"
     ]
    }
   ],
   "source": [
    "from multiprocessing import Process\n",
    "\n",
    "def square_numbers():\n",
    "    for i in range(1_000_000):\n",
    "        i * i\n",
    "\n",
    "processes = []\n",
    "\n",
    "for _ in range(4):  # Run 4 processes\n",
    "    p = Process(target=square_numbers)\n",
    "    processes.append(p)\n",
    "    p.start()\n",
    "\n",
    "for p in processes:\n",
    "    p.join()\n",
    "\n",
    "print(\"CPU-intensive task done!\")"
   ]
  },
  {
   "cell_type": "code",
   "execution_count": 7,
   "metadata": {},
   "outputs": [
    {
     "name": "stdout",
     "output_type": "stream",
     "text": [
      "Done!\n"
     ]
    }
   ],
   "source": [
    "from multiprocessing import Process\n",
    "\n",
    "def countdown(n):\n",
    "    for i in range(n,0, -1):\n",
    "        pass\n",
    "\n",
    "p = Process(target=countdown, args=(1_000_000,))\n",
    "p1 = Process(target=countdown, args=(800_000,))\n",
    "\n",
    "p.start()\n",
    "p1.start()      \n",
    "\n",
    "p.join()\n",
    "p1.join()\n",
    "\n",
    "print(\"Done!\")"
   ]
  }
 ],
 "metadata": {
  "kernelspec": {
   "display_name": "Python 3",
   "language": "python",
   "name": "python3"
  },
  "language_info": {
   "codemirror_mode": {
    "name": "ipython",
    "version": 3
   },
   "file_extension": ".py",
   "mimetype": "text/x-python",
   "name": "python",
   "nbconvert_exporter": "python",
   "pygments_lexer": "ipython3",
   "version": "3.12.1"
  }
 },
 "nbformat": 4,
 "nbformat_minor": 2
}
