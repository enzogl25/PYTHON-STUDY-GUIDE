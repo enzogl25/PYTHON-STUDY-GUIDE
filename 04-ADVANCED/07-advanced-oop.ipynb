{
 "cells": [
  {
   "cell_type": "markdown",
   "metadata": {},
   "source": [
    "# 🧠 Advanced OOP in Python\n",
    "\n",
    "Now that you know the basics of classes and inheritance, here are some advanced concepts:\n",
    "\n",
    "- `@staticmethod`\n",
    "- `@classmethod`\n",
    "- `__slots__`\n",
    "- Multiple inheritance\n",
    "- Property decorators\n",
    "- Operator overloading\n"
   ]
  },
  {
   "cell_type": "markdown",
   "metadata": {},
   "source": [
    "🔹 `@staticmethod` vs `@classmethod`"
   ]
  },
  {
   "cell_type": "code",
   "execution_count": 9,
   "metadata": {},
   "outputs": [
    {
     "name": "stdout",
     "output_type": "stream",
     "text": [
      "8\n",
      "This is a utility class: MathTools\n"
     ]
    }
   ],
   "source": [
    "class MathTools:\n",
    "    @staticmethod\n",
    "    def add(a, b):\n",
    "        return a + b\n",
    "\n",
    "    @classmethod\n",
    "    def describe(cls):\n",
    "        return f\"This is a utility class: {cls.__name__}\"\n",
    "\n",
    "print(MathTools.add(3, 5))          # Static method — no access to class or instance\n",
    "print(MathTools.describe())         # Class method — has access to class info"
   ]
  },
  {
   "cell_type": "markdown",
   "metadata": {},
   "source": [
    "🔹 `@property` and `@setter`"
   ]
  },
  {
   "cell_type": "code",
   "execution_count": 8,
   "metadata": {},
   "outputs": [
    {
     "name": "stdout",
     "output_type": "stream",
     "text": [
      "100\n"
     ]
    }
   ],
   "source": [
    "class Product:\n",
    "    def __init__(self, price):\n",
    "        self._price = price\n",
    "\n",
    "    @property\n",
    "    def price(self):\n",
    "        return self._price\n",
    "\n",
    "    @price.setter\n",
    "    def price(self, value):\n",
    "        if value < 0:\n",
    "            raise ValueError(\"Price must be positive\")\n",
    "        self._price = value\n",
    "\n",
    "p = Product(100)\n",
    "print(p.price)  # Getter\n",
    "p.price = 120   # Setter"
   ]
  },
  {
   "cell_type": "markdown",
   "metadata": {},
   "source": [
    "🔹 __slots__ (Memory Optimization)"
   ]
  },
  {
   "cell_type": "code",
   "execution_count": null,
   "metadata": {},
   "outputs": [],
   "source": [
    "class Person:\n",
    "    __slots__ = ['name', 'age']  # Prevents dynamic attributes\n",
    "\n",
    "    def __init__(self, name, age):\n",
    "        self.name = name\n",
    "        self.age = age"
   ]
  },
  {
   "cell_type": "markdown",
   "metadata": {},
   "source": [
    "🔹 Multiple Inheritance"
   ]
  },
  {
   "cell_type": "code",
   "execution_count": 10,
   "metadata": {},
   "outputs": [
    {
     "name": "stdout",
     "output_type": "stream",
     "text": [
      "Hello from A\n"
     ]
    }
   ],
   "source": [
    "class A:\n",
    "    def greet(self):\n",
    "        print(\"Hello from A\")\n",
    "\n",
    "class B:\n",
    "    def greet(self):\n",
    "        print(\"Hello from B\")\n",
    "\n",
    "class C(A, B):\n",
    "    pass\n",
    "\n",
    "c = C()\n",
    "c.greet()  # Will follow Method Resolution Order (MRO)"
   ]
  },
  {
   "cell_type": "markdown",
   "metadata": {},
   "source": [
    "🔹 Operator Overloading (More __magic__)"
   ]
  },
  {
   "cell_type": "code",
   "execution_count": 11,
   "metadata": {},
   "outputs": [
    {
     "name": "stdout",
     "output_type": "stream",
     "text": [
      "(4, 6)\n"
     ]
    }
   ],
   "source": [
    "class Vector:\n",
    "    def __init__(self, x, y):\n",
    "        self.x = x\n",
    "        self.y = y\n",
    "\n",
    "    def __add__(self, other):\n",
    "        return Vector(self.x + other.x, self.y + other.y)\n",
    "\n",
    "    def __str__(self):\n",
    "        return f\"({self.x}, {self.y})\"\n",
    "\n",
    "v1 = Vector(1, 2)\n",
    "v2 = Vector(3, 4)\n",
    "print(v1 + v2)  # Output: (4, 6)"
   ]
  },
  {
   "cell_type": "code",
   "execution_count": 7,
   "metadata": {},
   "outputs": [
    {
     "name": "stdout",
     "output_type": "stream",
     "text": [
      "Account Balance: $500.00 \n",
      "Account Balance: $1250.00 \n",
      "Money deposited!\n",
      "Account Balance: $800.00 \n",
      "Error: Insufficient balance\n",
      "Balance: 800\n",
      "Total Accounts: 2\n"
     ]
    }
   ],
   "source": [
    "class BankAccount:\n",
    "    total_accounts = 0  \n",
    "\n",
    "    def __init__(self, balance: float):\n",
    "        self.__balance = balance  \n",
    "        BankAccount.total_accounts += 1\n",
    "\n",
    "    def deposit(self, amount: float):\n",
    "        if amount <= 0:\n",
    "            raise ValueError(\"Deposit must be greater than 0\")\n",
    "        self.__balance += amount\n",
    "        print(\"Money deposited!\")\n",
    "\n",
    "    def withdraw(self, amount: float):\n",
    "        if amount > self.__balance:\n",
    "            raise ValueError(\"Insufficient balance\")\n",
    "        self.__balance -= amount\n",
    "        print(\"Money withdrawn!\")\n",
    "\n",
    "    @property\n",
    "    def balance(self):\n",
    "        return self.__balance\n",
    "\n",
    "    def __str__(self): \n",
    "        return f\"Account Balance: ${self.__balance:.2f} \"\n",
    "\n",
    "\n",
    "b1 = BankAccount(500)\n",
    "print(b1)\n",
    "b2 = BankAccount(1250)\n",
    "print(b2)\n",
    "\n",
    "b1.deposit(300)\n",
    "print(b1)\n",
    "\n",
    "try:\n",
    "    b1.withdraw(1000)\n",
    "except ValueError as e:\n",
    "    print(\"Error:\", e)\n",
    "\n",
    "print(\"Balance:\", b1.balance)\n",
    "print(\"Total Accounts:\", BankAccount.total_accounts)\n"
   ]
  }
 ],
 "metadata": {
  "kernelspec": {
   "display_name": "Python 3",
   "language": "python",
   "name": "python3"
  },
  "language_info": {
   "codemirror_mode": {
    "name": "ipython",
    "version": 3
   },
   "file_extension": ".py",
   "mimetype": "text/x-python",
   "name": "python",
   "nbconvert_exporter": "python",
   "pygments_lexer": "ipython3",
   "version": "3.12.1"
  }
 },
 "nbformat": 4,
 "nbformat_minor": 2
}
