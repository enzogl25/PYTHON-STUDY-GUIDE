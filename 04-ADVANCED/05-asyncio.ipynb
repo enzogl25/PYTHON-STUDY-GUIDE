{
 "cells": [
  {
   "cell_type": "markdown",
   "metadata": {},
   "source": [
    "### 🧠 What is asyncio?"
   ]
  },
  {
   "cell_type": "markdown",
   "metadata": {},
   "source": [
    "# ⚡ asyncio (Jupyter Version)\n",
    "\n",
    "`asyncio` allows Python to run **asynchronous, non-blocking code**.\n",
    "\n",
    "Useful for:\n",
    "- Downloading files without freezing the app\n",
    "- Waiting for things like API responses\n",
    "- Improving responsiveness\n",
    "\n",
    "We use:\n",
    "- `async def` → defines an async function\n",
    "- `await` → pauses until the task is done\n",
    "- Just call the function using `await` directly (no `asyncio.run()` in Jupyter)\n"
   ]
  },
  {
   "cell_type": "markdown",
   "metadata": {},
   "source": [
    "✅ Setup (Apply patch for nested loops)"
   ]
  },
  {
   "cell_type": "code",
   "execution_count": null,
   "metadata": {},
   "outputs": [
    {
     "name": "stdout",
     "output_type": "stream",
     "text": [
      "Hello...\n",
      "...World!\n"
     ]
    }
   ],
   "source": [
    "import asyncio\n",
    " \n",
    "async def say_hello():\n",
    "    print(\"Hello...\")\n",
    "    await asyncio.sleep(1)  # Simulates delay (non-blocking)\n",
    "    print(\"...World!\")\n",
    "\n",
    "asyncio.run(say_hello())"
   ]
  },
  {
   "cell_type": "markdown",
   "metadata": {},
   "source": [
    "✅ Run Multiple Async Tasks Together"
   ]
  },
  {
   "cell_type": "code",
   "execution_count": 5,
   "metadata": {},
   "outputs": [
    {
     "name": "stdout",
     "output_type": "stream",
     "text": [
      "Start A\n",
      "Start B\n",
      "Start C\n",
      "End B\n",
      "End A\n",
      "End C\n"
     ]
    },
    {
     "data": {
      "text/plain": [
       "[None, None, None]"
      ]
     },
     "execution_count": 5,
     "metadata": {},
     "output_type": "execute_result"
    }
   ],
   "source": [
    "import asyncio\n",
    "\n",
    "\n",
    "async def task(name, delay):\n",
    "    print(f\"Start {name}\")\n",
    "    await asyncio.sleep(delay)\n",
    "    print(f\"End {name}\")\n",
    "\n",
    "await asyncio.gather(\n",
    "    task(\"A\", 2),\n",
    "    task(\"B\", 1),\n",
    "    task(\"C\", 3)\n",
    ")"
   ]
  },
  {
   "cell_type": "markdown",
   "metadata": {},
   "source": [
    "✅ Async Loop Example"
   ]
  },
  {
   "cell_type": "code",
   "execution_count": null,
   "metadata": {},
   "outputs": [
    {
     "name": "stdout",
     "output_type": "stream",
     "text": [
      "Counting: 0\n",
      "Counting: 1\n",
      "Counting: 2\n"
     ]
    }
   ],
   "source": [
    "import asyncio\n",
    "\n",
    "\n",
    "async def count():\n",
    "    for i in range(3):\n",
    "        print(\"Counting:\", i)\n",
    "        await asyncio.sleep(1)\n",
    "\n",
    "await count()"
   ]
  },
  {
   "cell_type": "code",
   "execution_count": null,
   "metadata": {},
   "outputs": [
    {
     "name": "stdout",
     "output_type": "stream",
     "text": [
      "Delay Over One\n",
      "Delay Over Two\n",
      "Delay Over Three\n",
      "Done!\n"
     ]
    }
   ],
   "source": [
    "import asyncio\n",
    "\n",
    "async def one():\n",
    "    await asyncio.sleep(1)\n",
    "    print(\"Delay Over One\") \n",
    "    \n",
    "async def two():\n",
    "    await asyncio.sleep(2)\n",
    "    print(\"Delay Over Two\")\n",
    "\n",
    "async def three():\n",
    "    await asyncio.sleep(3)\n",
    "    print(\"Delay Over Three\")\n",
    "\n",
    "await asyncio.gather(\n",
    "    one(),\n",
    "    two(),\n",
    "    three()\n",
    ")\n",
    "\n",
    "print(\"Done!\")"
   ]
  }
 ],
 "metadata": {
  "kernelspec": {
   "display_name": "Python 3",
   "language": "python",
   "name": "python3"
  },
  "language_info": {
   "codemirror_mode": {
    "name": "ipython",
    "version": 3
   },
   "file_extension": ".py",
   "mimetype": "text/x-python",
   "name": "python",
   "nbconvert_exporter": "python",
   "pygments_lexer": "ipython3",
   "version": "3.12.1"
  }
 },
 "nbformat": 4,
 "nbformat_minor": 2
}
