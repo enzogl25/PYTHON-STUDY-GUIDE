{
 "cells": [
  {
   "cell_type": "markdown",
   "metadata": {},
   "source": [
    "### 🧠 What is Multithreading?"
   ]
  },
  {
   "cell_type": "markdown",
   "metadata": {},
   "source": [
    "Multithreading allows a program to run multiple operations **concurrently** (in parallel — kind of 🧠💭).\n",
    "\n",
    "It’s useful for:\n",
    "- Downloading files while showing a progress bar\n",
    "- Running background tasks\n",
    "- Improving responsiveness (like in GUIs or APIs)\n",
    "\n",
    "Python has a built-in `threading` module."
   ]
  },
  {
   "cell_type": "code",
   "execution_count": 1,
   "metadata": {},
   "outputs": [
    {
     "name": "stdout",
     "output_type": "stream",
     "text": [
      "HelloGoodbye\n",
      "\n",
      "HelloGoodbye\n",
      "\n",
      "HelloGoodbye\n",
      "\n",
      "GoodbyeHello\n",
      "\n",
      "GoodbyeHello\n",
      "\n",
      "Done!\n"
     ]
    }
   ],
   "source": [
    "import threading\n",
    "import time\n",
    "\n",
    "def say_hello():\n",
    "    for _ in range(5):\n",
    "        print(\"Hello\")\n",
    "        time.sleep(1)\n",
    "\n",
    "def say_goodbye():\n",
    "    for _ in range(5):\n",
    "        print(\"Goodbye\")\n",
    "        time.sleep(1)\n",
    "\n",
    "# Create threads\n",
    "t1 = threading.Thread(target=say_hello)\n",
    "t2 = threading.Thread(target=say_goodbye)\n",
    "\n",
    "# Start threads\n",
    "t1.start()\n",
    "t2.start()\n",
    "\n",
    "# Wait for threads to finish\n",
    "t1.join()\n",
    "t2.join()\n",
    "\n",
    "print(\"Done!\")"
   ]
  },
  {
   "cell_type": "markdown",
   "metadata": {},
   "source": [
    "🔍 Without Threads (Compare)"
   ]
  },
  {
   "cell_type": "code",
   "execution_count": 2,
   "metadata": {},
   "outputs": [
    {
     "name": "stdout",
     "output_type": "stream",
     "text": [
      "Hello\n",
      "Hello\n",
      "Hello\n",
      "Hello\n",
      "Hello\n",
      "Goodbye\n",
      "Goodbye\n",
      "Goodbye\n",
      "Goodbye\n",
      "Goodbye\n"
     ]
    }
   ],
   "source": [
    "# Run the same functions without threading\n",
    "say_hello()\n",
    "say_goodbye()"
   ]
  },
  {
   "cell_type": "markdown",
   "metadata": {},
   "source": [
    "👆 Notice how it's slower and less \"parallel\"."
   ]
  },
  {
   "cell_type": "markdown",
   "metadata": {},
   "source": [
    "⚠️ Python GIL Note (Optional):\n",
    "Python has a GIL (Global Interpreter Lock), so true parallel execution is limited in CPU-bound tasks.\n",
    "But multithreading still helps a lot in I/O-bound tasks like:\n",
    "\n",
    "- File handling\n",
    "\n",
    "- Network requests\n",
    "\n",
    "- Waiting for input/output"
   ]
  },
  {
   "cell_type": "code",
   "execution_count": 1,
   "metadata": {},
   "outputs": [
    {
     "name": "stdout",
     "output_type": "stream",
     "text": [
      "Tick\n",
      "Tock\n",
      "Tick\n",
      "Tock\n",
      "Tick\n",
      "Tock\n",
      "Tick\n",
      "Tick\n",
      "Tock\n",
      "Tock\n",
      "Done!\n"
     ]
    }
   ],
   "source": [
    "import threading\n",
    "import time\n",
    "\n",
    "def say_tick():\n",
    "    for _ in range(5):\n",
    "        print(\"Tick\")\n",
    "        time.sleep(0.5)\n",
    "\n",
    "def say_tock():\n",
    "    for _ in range(5):\n",
    "        print(\"Tock\")\n",
    "        time.sleep(0.7)\n",
    "\n",
    "t1 = threading.Thread(target=say_tick)\n",
    "t2 = threading.Thread(target=say_tock)\n",
    "\n",
    "t1.start()\n",
    "t2.start()\n",
    "\n",
    "t1.join()\n",
    "t2.join()\n",
    "\n",
    "print(\"Done!\")\n"
   ]
  }
 ],
 "metadata": {
  "kernelspec": {
   "display_name": "Python 3",
   "language": "python",
   "name": "python3"
  },
  "language_info": {
   "codemirror_mode": {
    "name": "ipython",
    "version": 3
   },
   "file_extension": ".py",
   "mimetype": "text/x-python",
   "name": "python",
   "nbconvert_exporter": "python",
   "pygments_lexer": "ipython3",
   "version": "3.12.1"
  }
 },
 "nbformat": 4,
 "nbformat_minor": 2
}
