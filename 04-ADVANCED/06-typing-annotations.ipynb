{
 "cells": [
  {
   "cell_type": "markdown",
   "metadata": {},
   "source": [
    "# 🏷️ Typing & Type Annotations in Python\n",
    "\n",
    "Typing annotations let you **declare the expected types** of variables, function arguments, and return values.\n",
    "\n",
    "They don’t enforce types at runtime (unless you use extra libraries), but they help with:\n",
    "- Code clarity\n",
    "- Autocompletion in IDEs\n",
    "- Static analysis tools (like `mypy`)"
   ]
  },
  {
   "cell_type": "markdown",
   "metadata": {},
   "source": [
    "✅ Basic Variable Annotations"
   ]
  },
  {
   "cell_type": "code",
   "execution_count": null,
   "metadata": {},
   "outputs": [],
   "source": [
    "age: int = 25\n",
    "name: str = \"Enzo\"\n",
    "price: float = 9.99\n",
    "active: bool = True"
   ]
  },
  {
   "cell_type": "markdown",
   "metadata": {},
   "source": [
    "✅ Function Annotations"
   ]
  },
  {
   "cell_type": "code",
   "execution_count": null,
   "metadata": {},
   "outputs": [],
   "source": [
    "def greet(name: str) -> str:\n",
    "    return f\"Hello, {name}\""
   ]
  },
  {
   "cell_type": "markdown",
   "metadata": {},
   "source": [
    "✅ Default Values & Optional"
   ]
  },
  {
   "cell_type": "code",
   "execution_count": null,
   "metadata": {},
   "outputs": [],
   "source": [
    "def repeat(text: str, times: int = 1) -> str:\n",
    "    return text * times"
   ]
  },
  {
   "cell_type": "markdown",
   "metadata": {},
   "source": [
    "✅ Optional & Union"
   ]
  },
  {
   "cell_type": "code",
   "execution_count": null,
   "metadata": {},
   "outputs": [],
   "source": [
    "from typing import Optional, Union\n",
    "\n",
    "def square(x: Optional[int]) -> Union[int, None]:\n",
    "    if x is not None:\n",
    "        return x * x\n",
    "    return None"
   ]
  },
  {
   "cell_type": "markdown",
   "metadata": {},
   "source": [
    "✅ List, Tuple, Dict, Set (with Types)"
   ]
  },
  {
   "cell_type": "code",
   "execution_count": null,
   "metadata": {},
   "outputs": [],
   "source": [
    "from typing import List, Tuple, Dict, Set\n",
    "\n",
    "nums: List[int] = [1, 2, 3]\n",
    "coords: Tuple[float, float] = (3.2, 4.5)\n",
    "phonebook: Dict[str, int] = {\"Alice\": 1234}\n",
    "unique_values: Set[str] = {\"a\", \"b\", \"c\"}"
   ]
  },
  {
   "cell_type": "markdown",
   "metadata": {},
   "source": [
    "✅ Custom Types with TypeAlias"
   ]
  },
  {
   "cell_type": "code",
   "execution_count": null,
   "metadata": {},
   "outputs": [],
   "source": [
    "from typing import TypeAlias\n",
    "\n",
    "UserId: TypeAlias = int\n",
    "\n",
    "def get_user(user_id: UserId) -> str:\n",
    "    return f\"User {user_id}\""
   ]
  },
  {
   "cell_type": "markdown",
   "metadata": {},
   "source": [
    "✅ Using Any"
   ]
  },
  {
   "cell_type": "code",
   "execution_count": null,
   "metadata": {},
   "outputs": [],
   "source": [
    "from typing import Any\n",
    "\n",
    "def handle_data(data: Any) -> None:\n",
    "    print(\"Received:\", data)"
   ]
  },
  {
   "cell_type": "markdown",
   "metadata": {},
   "source": [
    "✅ Type Checking Tools"
   ]
  },
  {
   "cell_type": "markdown",
   "metadata": {},
   "source": [
    "Install and run `mypy` to check types statically:\n",
    "\n",
    "```bash\n",
    "pip install mypy\n",
    "mypy your_script.py"
   ]
  },
  {
   "cell_type": "code",
   "execution_count": null,
   "metadata": {},
   "outputs": [],
   "source": [
    "def divide(a: float, b:float) -> float:\n",
    "        if b == 0.0:\n",
    "            raise ValueError(\"cannot divide by zero\")\n",
    "        return a / b\n",
    "    \n",
    "def parse_int(value: str) -> Optional[int]:\n",
    "    try:\n",
    "        return int(value)\n",
    "    except ValueError:\n",
    "        return None"
   ]
  }
 ],
 "metadata": {
  "language_info": {
   "name": "python"
  }
 },
 "nbformat": 4,
 "nbformat_minor": 2
}
