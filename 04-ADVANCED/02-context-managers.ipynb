{
 "cells": [
  {
   "cell_type": "markdown",
   "metadata": {},
   "source": [
    "### 🧠 What is a Context Manager?"
   ]
  },
  {
   "cell_type": "markdown",
   "metadata": {},
   "source": [
    "A **context manager** is a Python construct that **automatically manages resources** — like opening and closing files.\n",
    "\n",
    "You use it with the `with` statement:\n",
    "```python\n",
    "with open(\"file.txt\", \"r\") as f:\n",
    "    content = f.read()"
   ]
  },
  {
   "cell_type": "markdown",
   "metadata": {},
   "source": [
    "### ✅ Creating Your Own Context Manager with `class`"
   ]
  },
  {
   "cell_type": "code",
   "execution_count": 2,
   "metadata": {},
   "outputs": [
    {
     "name": "stdout",
     "output_type": "stream",
     "text": [
      "Entering context...\n",
      "Inside the block\n",
      "Exiting context...\n",
      "Error: <class 'ValueError'> - Test error\n"
     ]
    }
   ],
   "source": [
    "class MyContext:\n",
    "    def __enter__(self):\n",
    "        print(\"Entering context...\")\n",
    "        return self\n",
    "\n",
    "    def __exit__(self, exc_type, exc_val, exc_tb):\n",
    "        print(\"Exiting context...\")\n",
    "        if exc_type:\n",
    "            print(f\"Error: {exc_type} - {exc_val}\")\n",
    "        return True  # suppress error if any\n",
    "\n",
    "with MyContext():\n",
    "    print(\"Inside the block\")\n",
    "    raise ValueError(\"Test error\")  # Try uncommenting this!"
   ]
  },
  {
   "cell_type": "markdown",
   "metadata": {},
   "source": [
    "✅ Using contextlib (Cleaner Way)"
   ]
  },
  {
   "cell_type": "code",
   "execution_count": 3,
   "metadata": {},
   "outputs": [],
   "source": [
    "from contextlib import contextmanager\n",
    "\n",
    "@contextmanager\n",
    "def open_file(path, mode):\n",
    "    f = open(path, mode)\n",
    "    try:\n",
    "        yield f\n",
    "    finally:\n",
    "        f.close()\n",
    "\n",
    "with open_file(\"test.txt\", \"w\") as file:\n",
    "    file.write(\"Hello with contextlib!\")"
   ]
  },
  {
   "cell_type": "markdown",
   "metadata": {},
   "source": [
    "📦 Real-World Example: Timer Context Manager"
   ]
  },
  {
   "cell_type": "code",
   "execution_count": 4,
   "metadata": {},
   "outputs": [
    {
     "name": "stdout",
     "output_type": "stream",
     "text": [
      "⏱️ Elapsed time: 1.0008 seconds\n"
     ]
    }
   ],
   "source": [
    "import time\n",
    "from contextlib import contextmanager\n",
    "\n",
    "@contextmanager\n",
    "def timer():\n",
    "    start = time.time()\n",
    "    yield\n",
    "    end = time.time()\n",
    "    print(f\"⏱️ Elapsed time: {end - start:.4f} seconds\")\n",
    "\n",
    "with timer():\n",
    "    time.sleep(1)"
   ]
  },
  {
   "cell_type": "code",
   "execution_count": 5,
   "metadata": {},
   "outputs": [],
   "source": [
    "from datetime import  datetime\n",
    "\n",
    "class Logger:\n",
    "    def __enter__(self):\n",
    "        self.file = open(\"log.txt\", \"a\")\n",
    "        self.write_log(\"Seassion Started\")\n",
    "        return self\n",
    "    \n",
    "    def __exit__(self, exc_type, exc_val, exc_tb):\n",
    "        self.write_log(\"Seassion Ended\")\n",
    "        self.file.close()\n",
    "        \n",
    "        return self\n",
    "\n",
    "    def write_log(self, message):\n",
    "        now = datetime.now().strftime(\"%Y-%m-%d %H:%M:%S\")\n",
    "        self.file.write(f\"[{now}] {message}\\n\")\n",
    "        \n",
    "with Logger() as log:\n",
    "    log.write_log(\"Doing something inside the block...\")"
   ]
  },
  {
   "cell_type": "code",
   "execution_count": 13,
   "metadata": {},
   "outputs": [
    {
     "name": "stdout",
     "output_type": "stream",
     "text": [
      "Hello Enzo!\n",
      "Everything inside this block is being logged.\n"
     ]
    }
   ],
   "source": [
    "import sys\n",
    "\n",
    "class DualWriter:\n",
    "    def __init__(self, original_stdout, file):\n",
    "        self.original_stdout = original_stdout\n",
    "        self.file = file\n",
    "\n",
    "    def write(self, text):\n",
    "        self.original_stdout.write(text)\n",
    "        self.file.write(text)\n",
    "\n",
    "    def flush(self):\n",
    "        self.original_stdout.flush()\n",
    "        self.file.flush()\n",
    "\n",
    "class FileLogger:\n",
    "    def __init__(self, filename):\n",
    "        self.filename = filename\n",
    "\n",
    "    def __enter__(self):\n",
    "        self.file = open(self.filename, \"a\")\n",
    "        self.original_stdout = sys.stdout\n",
    "        sys.stdout = DualWriter(self.original_stdout, self.file)\n",
    "        return self\n",
    "\n",
    "    def __exit__(self, exc_type, exc_value, traceback):\n",
    "        sys.stdout = self.original_stdout\n",
    "        self.file.close()\n",
    "    \n",
    "    with FileLogger(\"log.txt\"):\n",
    "        print(\"Hello Enzo!\")\n",
    "        print(\"Everything inside this block is being logged.\")\n",
    "\n"
   ]
  }
 ],
 "metadata": {
  "kernelspec": {
   "display_name": "Python 3",
   "language": "python",
   "name": "python3"
  },
  "language_info": {
   "codemirror_mode": {
    "name": "ipython",
    "version": 3
   },
   "file_extension": ".py",
   "mimetype": "text/x-python",
   "name": "python",
   "nbconvert_exporter": "python",
   "pygments_lexer": "ipython3",
   "version": "3.12.1"
  }
 },
 "nbformat": 4,
 "nbformat_minor": 2
}
