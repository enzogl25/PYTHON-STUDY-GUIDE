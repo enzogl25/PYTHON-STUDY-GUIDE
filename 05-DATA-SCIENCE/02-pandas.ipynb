{
 "cells": [
  {
   "cell_type": "markdown",
   "metadata": {},
   "source": [
    "# 🐼 Pandas — Data Analysis in Python\n",
    "\n",
    "Pandas is a fast, powerful, and flexible tool for working with:\n",
    "- Tables (like spreadsheets or SQL tables)\n",
    "- CSV and Excel files\n",
    "- Labeled and structured data\n",
    "\n",
    "Key objects:\n",
    "- `Series`: 1D labeled array\n",
    "- `DataFrame`: 2D table (like an Excel sheet or SQL table)"
   ]
  },
  {
   "cell_type": "code",
   "execution_count": null,
   "metadata": {},
   "outputs": [],
   "source": [
    "import pandas as pd"
   ]
  },
  {
   "cell_type": "markdown",
   "metadata": {},
   "source": [
    "✅ Creating Series and DataFrames"
   ]
  },
  {
   "cell_type": "code",
   "execution_count": 1,
   "metadata": {},
   "outputs": [
    {
     "name": "stdout",
     "output_type": "stream",
     "text": [
      "0    10\n",
      "1    20\n",
      "2    30\n",
      "dtype: int64\n",
      "      Name  Age\n",
      "0    Alice   25\n",
      "1     Enzo   30\n",
      "2  Charlie   35\n"
     ]
    }
   ],
   "source": [
    "import pandas as pd\n",
    "\n",
    "# Series\n",
    "s = pd.Series([10, 20, 30])\n",
    "print(s)\n",
    "\n",
    "# DataFrame\n",
    "data = {\n",
    "    \"Name\": [\"Alice\", \"Enzo\", \"Charlie\"],\n",
    "    \"Age\": [25, 30, 35]\n",
    "}\n",
    "df = pd.DataFrame(data)\n",
    "print(df)"
   ]
  },
  {
   "cell_type": "markdown",
   "metadata": {},
   "source": [
    "✅ Reading and Writing CSV"
   ]
  },
  {
   "cell_type": "code",
   "execution_count": 2,
   "metadata": {},
   "outputs": [
    {
     "name": "stdout",
     "output_type": "stream",
     "text": [
      "      Name  Age\n",
      "0    Alice   25\n",
      "1     Enzo   30\n",
      "2  Charlie   35\n",
      "      Name  Age\n",
      "0    Alice   25\n",
      "1     Enzo   30\n",
      "2  Charlie   35\n",
      "(3, 2)\n",
      "Index(['Name', 'Age'], dtype='object')\n",
      "<class 'pandas.core.frame.DataFrame'>\n",
      "RangeIndex: 3 entries, 0 to 2\n",
      "Data columns (total 2 columns):\n",
      " #   Column  Non-Null Count  Dtype \n",
      "---  ------  --------------  ----- \n",
      " 0   Name    3 non-null      object\n",
      " 1   Age     3 non-null      int64 \n",
      "dtypes: int64(1), object(1)\n",
      "memory usage: 180.0+ bytes\n",
      "None\n",
      "        Age\n",
      "count   3.0\n",
      "mean   30.0\n",
      "std     5.0\n",
      "min    25.0\n",
      "25%    27.5\n",
      "50%    30.0\n",
      "75%    32.5\n",
      "max    35.0\n"
     ]
    }
   ],
   "source": [
    "import pandas as pd\n",
    "\n",
    "data = {\n",
    "    \"Name\": [\"Alice\", \"Enzo\", \"Charlie\"],\n",
    "    \"Age\": [25, 30, 35]\n",
    "}\n",
    "\n",
    "df = pd.DataFrame(data)\n",
    "\n",
    "print(df.head())     # First 5 rows\n",
    "print(df.tail())     # Last 5 rows\n",
    "print(df.shape)      # (rows, columns)\n",
    "print(df.columns)    # Column names\n",
    "print(df.info())     # Overview\n",
    "print(df.describe()) # Stats summary"
   ]
  },
  {
   "cell_type": "markdown",
   "metadata": {},
   "source": [
    "✅ Selecting Columns and Rows"
   ]
  },
  {
   "cell_type": "code",
   "execution_count": null,
   "metadata": {},
   "outputs": [
    {
     "name": "stdout",
     "output_type": "stream",
     "text": [
      "0      Alice\n",
      "1       Enzo\n",
      "2    Charlie\n",
      "Name: Name, dtype: object\n",
      "      Name  Age\n",
      "0    Alice   25\n",
      "1     Enzo   30\n",
      "2  Charlie   35\n",
      "Name    Alice\n",
      "Age        25\n",
      "Name: 0, dtype: object\n",
      "Name    Alice\n",
      "Age        25\n",
      "Name: 0, dtype: object\n"
     ]
    }
   ],
   "source": [
    "import pandas as pd\n",
    "\n",
    "data = {\n",
    "    \"Name\": [\"Alice\", \"Enzo\", \"Charlie\"],\n",
    "    \"Age\": [25, 30, 35]\n",
    "}\n",
    "\n",
    "df = pd.DataFrame(data)\n",
    "\n",
    "print(df[\"Name\"])        # Column\n",
    "print(df[[\"Name\", \"Age\"]])  # Multiple columns\n",
    "\n",
    "print(df.iloc[0])        # First row (by position)\n",
    "print(df.loc[0])         # First row (by label/index)"
   ]
  },
  {
   "cell_type": "markdown",
   "metadata": {},
   "source": [
    "✅ Adding / Updating / Removing Columns"
   ]
  },
  {
   "cell_type": "code",
   "execution_count": 6,
   "metadata": {},
   "outputs": [
    {
     "name": "stdout",
     "output_type": "stream",
     "text": [
      "      Name  Age  Salary\n",
      "0    Alice   26   50000\n",
      "1     Enzo   31   60000\n",
      "2  Charlie   36   20000\n",
      "      Name  Age\n",
      "0    Alice   26\n",
      "1     Enzo   31\n",
      "2  Charlie   36\n"
     ]
    }
   ],
   "source": [
    "import pandas as pd\n",
    "\n",
    "data = {\n",
    "    \"Name\": [\"Alice\", \"Enzo\", \"Charlie\"],\n",
    "    \"Age\": [25, 30, 35]\n",
    "}\n",
    "\n",
    "df = pd.DataFrame(data)\n",
    "\n",
    "df[\"Salary\"] = [50000, 60000, 20000]  # Add new column\n",
    "df[\"Age\"] = df[\"Age\"] + 1             # Update values\n",
    "print(df)\n",
    "df.drop(\"Salary\", axis=1, inplace=True)  # Remove column\n",
    "print(df)\n"
   ]
  },
  {
   "cell_type": "code",
   "execution_count": 14,
   "metadata": {},
   "outputs": [
    {
     "name": "stdout",
     "output_type": "stream",
     "text": [
      "      Name  Age  Score\n",
      "0     Anna   22     88\n",
      "1    Brian   35     92\n",
      "2  Cecilia   28     79\n",
      "3   Daniel   40     85\n",
      "    Name  Age  Score\n",
      "0   Anna   22     88\n",
      "1  Brian   35     92\n",
      "      Name  Age  Score Passed\n",
      "0     Anna   22     88    Yes\n",
      "1    Brian   35     92    Yes\n",
      "2  Cecilia   28     79     No\n",
      "3   Daniel   40     85    Yes\n",
      "\n",
      "Avarege Score: 86.0\n"
     ]
    }
   ],
   "source": [
    "import pandas as pd\n",
    "\n",
    "data = {\n",
    "    \"Name\": [\"Anna\", \"Brian\", \"Cecilia\", \"Daniel\"],\n",
    "    \"Age\": [22, 35, 28, 40],\n",
    "    \"Score\": [88, 92, 79, 85]    \n",
    "}\n",
    "\n",
    "df = pd.DataFrame(data)\n",
    "print(df)\n",
    "\n",
    "# Filter only people with scores > 85\n",
    "high_scores = df[df[\"Score\"] > 85]\n",
    "print(high_scores)\n",
    "\n",
    "# Add a new column \"Passed\"\n",
    "df[\"Passed\"] = df[\"Score\"].apply(lambda x: \"Yes\" if x >= 80 else \"No\")\n",
    "print(df)\n",
    "\n",
    "# Print the avarege score\n",
    "print(\"\\nAvarege Score:\", df[\"Score\"].mean())"
   ]
  }
 ],
 "metadata": {
  "kernelspec": {
   "display_name": "Python 3",
   "language": "python",
   "name": "python3"
  },
  "language_info": {
   "codemirror_mode": {
    "name": "ipython",
    "version": 3
   },
   "file_extension": ".py",
   "mimetype": "text/x-python",
   "name": "python",
   "nbconvert_exporter": "python",
   "pygments_lexer": "ipython3",
   "version": "3.12.1"
  }
 },
 "nbformat": 4,
 "nbformat_minor": 2
}
