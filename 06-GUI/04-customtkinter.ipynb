{
 "cells": [
  {
   "cell_type": "markdown",
   "metadata": {},
   "source": [
    "# 🎨 customtkinter — Modern GUI for Python\n",
    "\n",
    "`customtkinter` is a modern, open-source wrapper for Tkinter that gives you:\n",
    "✅ Dark mode  \n",
    "✅ Rounded corners  \n",
    "✅ Clean, minimal buttons and entries  \n",
    "✅ Built-in themes (like Material Design or macOS style)\n",
    "\n",
    "Install it:\n",
    "```bash\n",
    "pip install customtkinter"
   ]
  },
  {
   "cell_type": "code",
   "execution_count": null,
   "metadata": {},
   "outputs": [],
   "source": [
    "import customtkinter as ctk\n"
   ]
  },
  {
   "cell_type": "markdown",
   "metadata": {},
   "source": [
    "Use `ctk.CTk()` instead of `tk.Tk()` to create your main window."
   ]
  },
  {
   "cell_type": "markdown",
   "metadata": {},
   "source": [
    "✅ First Clean Window with Dark Mode"
   ]
  },
  {
   "cell_type": "code",
   "execution_count": 1,
   "metadata": {},
   "outputs": [],
   "source": [
    "import customtkinter as ctk\n",
    "\n",
    "ctk.set_appearance_mode(\"dark\")  # Options: \"light\", \"dark\", \"system\"\n",
    "ctk.set_default_color_theme(\"blue\")  # Options: \"blue\", \"green\", \"dark-blue\"\n",
    "\n",
    "root = ctk.CTk()\n",
    "root.title(\"Modern GUI\")\n",
    "root.geometry(\"300x200\")\n",
    "\n",
    "label = ctk.CTkLabel(root, text=\"Welcome to customtkinter!\", font=(\"Arial\", 16))\n",
    "label.pack(pady=20)\n",
    "\n",
    "root.mainloop()"
   ]
  },
  {
   "cell_type": "markdown",
   "metadata": {},
   "source": [
    "✅ Modern Button + Entry + Label"
   ]
  },
  {
   "cell_type": "code",
   "execution_count": 2,
   "metadata": {},
   "outputs": [],
   "source": [
    "import customtkinter as ctk\n",
    "\n",
    "ctk.set_appearance_mode(\"dark\")  # Options: \"light\", \"dark\", \"system\"\n",
    "ctk.set_default_color_theme(\"blue\")  # Options: \"blue\", \"green\", \"dark-blue\"\n",
    "\n",
    "root = ctk.CTk()\n",
    "root.title(\"Modern GUI\")\n",
    "root.geometry(\"300x200\")\n",
    "\n",
    "label = ctk.CTkLabel(root, text=\"Welcome to customtkinter!\", font=(\"Arial\", 16))\n",
    "label.pack(pady=20)\n",
    "\n",
    "entry = ctk.CTkEntry(root, placeholder_text=\"Type something...\")\n",
    "entry.pack(pady=10)\n",
    "\n",
    "def show_text():\n",
    "    label.configure(text=entry.get())\n",
    "\n",
    "button = ctk.CTkButton(root, text=\"Show Text\", command=show_text)\n",
    "button.pack()\n",
    "\n",
    "root.mainloop()"
   ]
  },
  {
   "cell_type": "markdown",
   "metadata": {},
   "source": [
    "🧪 Common Widgets:\n",
    "\n",
    "- `CTkEntry`\t    modern input field\n",
    "- `CTkLabel`\t    text or output\n",
    "- `CTkButton`\t    clickable button\n",
    "- `CTkFrame`\t    grouping/layout\n",
    "- `CTkSwitch`\t    modern checkbox/switch\n",
    "- `CTkOptionMenu`   dropdown menu"
   ]
  },
  {
   "cell_type": "code",
   "execution_count": null,
   "metadata": {},
   "outputs": [],
   "source": [
    "import customtkinter as ctk\n",
    "\n",
    "ctk.set_appearance_mode(\"dark\")\n",
    "ctk.set_default_color_theme(\"blue\")\n",
    "\n",
    "root = ctk.CTk()\n",
    "root.title(\"Mini Login\")\n",
    "root.geometry(\"300x200\")\n",
    "\n",
    "ctk.CTkLabel(root, text=\"Username\").grid(row=0, column = 0, padx = 5, pady = 5)\n",
    "username = ctk.CTkEntry(root)\n",
    "username.grid(row=0, column=1, padx=5, pady=5)\n",
    "\n",
    "ctk.CTkLabel(root, text=\"Password\").grid(row=1, column = 0, padx = 5, pady = 5)\n",
    "password = ctk.CTkEntry(root, show=\"*\")\n",
    "password.grid(row=1, column=1, padx=5, pady=5)\n",
    "\n",
    "output = ctk.CTkLabel(root, text=\"\")\n",
    "output.grid(row=2, column=0, columnspan = 2)\n",
    "\n",
    "def submit():\n",
    "    try:\n",
    "        login = username.get()\n",
    "        passw = password.get()\n",
    "\n",
    "        if passw == \"\":\n",
    "            raise ValueError\n",
    "\n",
    "        output.configure(text=\"✅ Submitted!\", text_color=\"lightgreen\")\n",
    "    except ValueError:\n",
    "        output.configure(text=\"⚠️ Password is empty!\", text_color=\"red\")\n",
    "\n",
    "        \n",
    "ctk.CTkButton(root, text=\"Submit\", command=submit).grid(row=3, column=0, columnspan=2, pady=10)\n",
    "\n",
    "root.mainloop()"
   ]
  }
 ],
 "metadata": {
  "kernelspec": {
   "display_name": "Python 3",
   "language": "python",
   "name": "python3"
  },
  "language_info": {
   "codemirror_mode": {
    "name": "ipython",
    "version": 3
   },
   "file_extension": ".py",
   "mimetype": "text/x-python",
   "name": "python",
   "nbconvert_exporter": "python",
   "pygments_lexer": "ipython3",
   "version": "3.12.1"
  }
 },
 "nbformat": 4,
 "nbformat_minor": 2
}
