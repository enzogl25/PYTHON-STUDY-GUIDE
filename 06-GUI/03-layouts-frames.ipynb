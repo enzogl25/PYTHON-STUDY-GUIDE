{
 "cells": [
  {
   "cell_type": "markdown",
   "metadata": {},
   "source": [
    "# Layouts Frames\n",
    "\n",
    "🎯 What You’ll Learn:\n",
    "\n",
    "- `grid()` layout (more control than `pack()`)\n",
    "\n",
    "- `Frame` to group widgets\n",
    "\n",
    "- Padding (`padx`, `pady`)\n",
    "\n",
    "- Alignment (`sticky=\"w/e/n/s\"`)"
   ]
  },
  {
   "cell_type": "markdown",
   "metadata": {},
   "source": [
    "✅ Basic Layout with `grid()`"
   ]
  },
  {
   "cell_type": "code",
   "execution_count": 2,
   "metadata": {},
   "outputs": [],
   "source": [
    "import tkinter as tk\n",
    "\n",
    "root = tk.Tk()\n",
    "root.title(\"Login\")\n",
    "root.geometry(\"300x150\")\n",
    "\n",
    "# Labels and inputs\n",
    "tk.Label(root, text=\"Username:\").grid(row=0, column=0, padx=5, pady=5)\n",
    "username = tk.Entry(root)\n",
    "username.grid(row=0, column=1, padx=5, pady=5)\n",
    "\n",
    "tk.Label(root, text=\"Password:\").grid(row=1, column=0, padx=5, pady=5)\n",
    "password = tk.Entry(root, show=\"*\")\n",
    "password.grid(row=1, column=1, padx=5, pady=5)\n",
    "\n",
    "# Login button\n",
    "tk.Button(root, text=\"Login\").grid(row=2, column=0, columnspan=2, pady=10)\n",
    "\n",
    "root.mainloop()"
   ]
  },
  {
   "cell_type": "markdown",
   "metadata": {},
   "source": [
    "✅ Using a Frame to Organize Content"
   ]
  },
  {
   "cell_type": "code",
   "execution_count": 8,
   "metadata": {},
   "outputs": [],
   "source": [
    "import tkinter as tk\n",
    "\n",
    "root = tk.Tk()\n",
    "root.title(\"Login\")\n",
    "root.geometry(\"300x150\")\n",
    "\n",
    "frame = tk.Frame(root)\n",
    "frame.pack(padx=10, pady=10)\n",
    "\n",
    "tk.Label(frame, text=\"Name:\").grid(row=0, column=0)\n",
    "entry = tk.Entry(frame)\n",
    "entry.grid(row=0, column=1)\n",
    "\n",
    "root.mainloop()"
   ]
  },
  {
   "cell_type": "markdown",
   "metadata": {},
   "source": [
    "🧪 Bonus Tip — Expanding Cells"
   ]
  },
  {
   "cell_type": "code",
   "execution_count": null,
   "metadata": {},
   "outputs": [],
   "source": [
    "root.grid_columnconfigure(0, weight=1)\n",
    "root.grid_columnconfigure(1, weight=1)"
   ]
  },
  {
   "cell_type": "markdown",
   "metadata": {},
   "source": [
    "Makes columns expand and look better when the window resizes."
   ]
  },
  {
   "cell_type": "code",
   "execution_count": null,
   "metadata": {},
   "outputs": [],
   "source": [
    "import tkinter as tk\n",
    "\n",
    "root = tk.Tk()\n",
    "root.title(\"Mini Login\")\n",
    "root.geometry(\"300x150\")\n",
    "\n",
    "# Configure grid columns to expand\n",
    "root.grid_columnconfigure(0, weight=1)\n",
    "root.grid_columnconfigure(1, weight=1)\n",
    "\n",
    "# Username\n",
    "tk.Label(root, text=\"Username:\").grid(row=0, column=0, padx=5, pady=5)\n",
    "username = tk.Entry(root)\n",
    "username.grid(row=0, column=1, padx=5, pady=5)\n",
    "\n",
    "# Password\n",
    "tk.Label(root, text=\"Password:\").grid(row=1, column=0, padx=5, pady=5)\n",
    "password = tk.Entry(root, show=\"*\")\n",
    "password.grid(row=1, column=1, padx=5, pady=5)\n",
    "\n",
    "# Output Label\n",
    "output = tk.Label(root, text=\"\")\n",
    "output.grid(row=2, column=0, columnspan=2)\n",
    "\n",
    "# Submit function\n",
    "def submit():\n",
    "    try:\n",
    "        login = username.get()\n",
    "        passw = password.get()\n",
    "\n",
    "        if passw == \"\":\n",
    "            raise ValueError\n",
    "\n",
    "        output.config(text=\"Submitted!\")\n",
    "    except ValueError:\n",
    "        output.config(text=\"Password is empty!\")\n",
    "\n",
    "# Submit Button\n",
    "tk.Button(root, text=\"Submit\", command=submit).grid(row=3, column=0, columnspan=2, pady=10)\n",
    "\n",
    "root.mainloop()"
   ]
  }
 ],
 "metadata": {
  "kernelspec": {
   "display_name": "Python 3",
   "language": "python",
   "name": "python3"
  },
  "language_info": {
   "codemirror_mode": {
    "name": "ipython",
    "version": 3
   },
   "file_extension": ".py",
   "mimetype": "text/x-python",
   "name": "python",
   "nbconvert_exporter": "python",
   "pygments_lexer": "ipython3",
   "version": "3.12.1"
  }
 },
 "nbformat": 4,
 "nbformat_minor": 2
}
