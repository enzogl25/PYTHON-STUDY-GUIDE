{
 "cells": [
  {
   "cell_type": "markdown",
   "metadata": {},
   "source": [
    "# Buttons entries\n",
    "\n",
    "🎯 Focus:\n",
    "\n",
    "- Better layout and spacing\n",
    "\n",
    "- Multiple input fields and buttons\n",
    "\n",
    "- Colors and fonts\n",
    "\n",
    "- Button-to-function interactions\n",
    "\n"
   ]
  },
  {
   "cell_type": "markdown",
   "metadata": {},
   "source": [
    "✅ Two Input Fields + Button"
   ]
  },
  {
   "cell_type": "code",
   "execution_count": 4,
   "metadata": {},
   "outputs": [],
   "source": [
    "import tkinter as tk\n",
    "\n",
    "root = tk.Tk()\n",
    "root.title(\"Name App\")\n",
    "root.geometry(\"300x200\")\n",
    "\n",
    "# First Name Entry\n",
    "tk.Label(root, text=\"First Name\").pack()\n",
    "first_name = tk.Entry(root)\n",
    "first_name.pack()\n",
    "\n",
    "# Last Name Entry\n",
    "tk.Label(root, text=\"Last Name\").pack()\n",
    "last_name = tk.Entry(root)\n",
    "last_name.pack()\n",
    "\n",
    "# Output Label\n",
    "output = tk.Label(root, text=\"\", font=(\"Arial\", 12, \"bold\"))\n",
    "output.pack()\n",
    "\n",
    "# Function to show full name\n",
    "def show_name():\n",
    "    full = f\"Hello, {first_name.get()} {last_name.get()}!\"\n",
    "    output.config(text=full)\n",
    "\n",
    "# Button\n",
    "tk.Button(root, text=\"Greet\", command=show_name, bg=\"green\", fg=\"white\").pack(pady=10)\n",
    "\n",
    "root.mainloop()\n"
   ]
  },
  {
   "cell_type": "markdown",
   "metadata": {},
   "source": [
    "💡 Notes:\n",
    "\n",
    "- `Label`   Static text or display output\n",
    "\n",
    "- `Entry`\tInput fields (like forms)\n",
    "\n",
    "- `Button`\tCalls a function\n",
    "\n",
    "- `.pack()`\tSimple layout system\n",
    "\n",
    "- `pady=10`\tAdds vertical spacing"
   ]
  },
  {
   "cell_type": "markdown",
   "metadata": {},
   "source": [
    "🎨 Optional Styling"
   ]
  },
  {
   "cell_type": "code",
   "execution_count": null,
   "metadata": {},
   "outputs": [],
   "source": [
    "tk.Label(root, text=\"Hello\", font=(\"Helvetica\", 14), fg=\"blue\").pack()"
   ]
  },
  {
   "cell_type": "code",
   "execution_count": 11,
   "metadata": {},
   "outputs": [],
   "source": [
    "import tkinter as tk\n",
    "\n",
    "root = tk.Tk()\n",
    "root.title(\"Mini Calculator\")\n",
    "root.geometry(\"300x200\")\n",
    "\n",
    "tk.Label(root, text=\"First Number\").pack()\n",
    "first_number = tk.Entry(root)\n",
    "first_number.pack()\n",
    "\n",
    "tk.Label(root, text=\"Second Number\").pack()\n",
    "second_number = tk.Entry(root)\n",
    "second_number.pack()\n",
    "\n",
    "output = tk.Label(root, text=\"\")\n",
    "output.pack()\n",
    "\n",
    "def add():\n",
    "    try:   \n",
    "        sum = int(first_number.get()) + int(second_number.get())\n",
    "        output.config(text=f\"{sum}\")\n",
    "    except ValueError:\n",
    "        output.config(text=\"Enter Valid Numbers!\")\n",
    "\n",
    "def subtract():\n",
    "    try:\n",
    "        sub = int(first_number.get()) - int(second_number.get())\n",
    "        output.config(text=f\"{sub}\")\n",
    "    except ValueError:\n",
    "        output.config(text=\"Enter Valid Numbers!\")\n",
    "\n",
    "tk.Button(root, text=\"add\", command=add).pack()\n",
    "tk.Button(root, text = \"subtract\", command=subtract).pack()\n",
    "\n",
    "root.mainloop()    "
   ]
  }
 ],
 "metadata": {
  "kernelspec": {
   "display_name": "Python 3",
   "language": "python",
   "name": "python3"
  },
  "language_info": {
   "codemirror_mode": {
    "name": "ipython",
    "version": 3
   },
   "file_extension": ".py",
   "mimetype": "text/x-python",
   "name": "python",
   "nbconvert_exporter": "python",
   "pygments_lexer": "ipython3",
   "version": "3.12.1"
  }
 },
 "nbformat": 4,
 "nbformat_minor": 2
}
