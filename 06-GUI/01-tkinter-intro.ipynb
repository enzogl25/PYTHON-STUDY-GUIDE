{
 "cells": [
  {
   "cell_type": "markdown",
   "metadata": {},
   "source": [
    "# 🪟 Tkinter — Intro to Python GUI\n",
    "\n",
    "Tkinter is Python's standard GUI library.\n",
    "\n",
    "With Tkinter, you can:\n",
    "\n",
    "✅ Create windows  \n",
    "✅ Add buttons, input fields, labels  \n",
    "✅ Handle user actions (like button clicks)\n",
    "\n",
    "Start by importing it:\n",
    "```python\n",
    "import tkinter as tk"
   ]
  },
  {
   "cell_type": "markdown",
   "metadata": {},
   "source": [
    "✅ Creating Your First Window"
   ]
  },
  {
   "cell_type": "code",
   "execution_count": 1,
   "metadata": {},
   "outputs": [],
   "source": [
    "import tkinter as tk\n",
    "\n",
    "# Create window\n",
    "root = tk.Tk()\n",
    "root.title(\"My First GUI\")\n",
    "root.geometry(\"300x150\")\n",
    "\n",
    "# Label\n",
    "label = tk.Label(root, text=\"Hello, Enzo!\")\n",
    "label.pack()\n",
    "\n",
    "# Run the GUI loop\n",
    "root.mainloop()"
   ]
  },
  {
   "cell_type": "markdown",
   "metadata": {},
   "source": [
    "✅ Adding a Button"
   ]
  },
  {
   "cell_type": "code",
   "execution_count": null,
   "metadata": {},
   "outputs": [
    {
     "name": "stdout",
     "output_type": "stream",
     "text": [
      "Button clicked!\n"
     ]
    }
   ],
   "source": [
    "import tkinter as tk\n",
    "\n",
    "root = tk.Tk()\n",
    "root.title(\"My First GUI\")\n",
    "root.geometry(\"300x150\")\n",
    "\n",
    "label = tk.Label(root, text=\"Hello, Enzo!\")\n",
    "label.pack()\n",
    "\n",
    "def say_hello():\n",
    "    print(\"Button clicked!\")\n",
    "\n",
    "button = tk.Button(root, text=\"Click me!\", command=say_hello)\n",
    "button.pack()\n",
    "\n",
    "root.mainloop()"
   ]
  },
  {
   "cell_type": "markdown",
   "metadata": {},
   "source": [
    "✅ Adding an Input Field (Entry)"
   ]
  },
  {
   "cell_type": "code",
   "execution_count": 7,
   "metadata": {},
   "outputs": [
    {
     "name": "stdout",
     "output_type": "stream",
     "text": [
      "You typed: hi\n"
     ]
    }
   ],
   "source": [
    "import tkinter as tk\n",
    "\n",
    "root = tk.Tk()\n",
    "root.title(\"My First GUI\")\n",
    "root.geometry(\"300x150\")\n",
    "\n",
    "label = tk.Label(root, text=\"Hello, Enzo!\")\n",
    "label.pack()\n",
    "\n",
    "entry = tk.Entry(root)\n",
    "entry.pack()\n",
    "\n",
    "def print_input():\n",
    "    print(\"You typed:\", entry.get())\n",
    "\n",
    "btn = tk.Button(root, text=\"Submit\", command=print_input)\n",
    "btn.pack()\n",
    "\n",
    "root.mainloop()"
   ]
  },
  {
   "cell_type": "markdown",
   "metadata": {},
   "source": [
    "🧠 Notes:\n",
    "\n",
    "- `.pack()` places widgets in the window (very simple layout)\n",
    "\n",
    "- `.mainloop()` keeps the window open and listens for events\n",
    "\n",
    "- `command=` links a function to a button click"
   ]
  },
  {
   "cell_type": "code",
   "execution_count": 10,
   "metadata": {},
   "outputs": [],
   "source": [
    "import tkinter as tk\n",
    "\n",
    "root = tk.Tk()\n",
    "root.title(\"Window\")\n",
    "root.geometry(\"300x150\")\n",
    "\n",
    "label = tk.Label(root, text=\"Press the button\")\n",
    "label.pack()\n",
    "\n",
    "def change_label():\n",
    "    label.config(text=\"Hi!\")\n",
    "\n",
    "btn = tk.Button(root, text=\"click!\", command=change_label)\n",
    "btn.pack()\n",
    "\n",
    "root.mainloop()"
   ]
  },
  {
   "cell_type": "code",
   "execution_count": null,
   "metadata": {},
   "outputs": [],
   "source": [
    "import tkinter as tk\n",
    "\n",
    "root = tk.Tk()\n",
    "root.title(\"Show Your Input\")\n",
    "root.geometry(\"300x150\")\n",
    "\n",
    "# Entry field\n",
    "entry = tk.Entry(root)\n",
    "entry.pack()\n",
    "\n",
    "# Label (starts empty)\n",
    "label = tk.Label(root, text=\"\")\n",
    "label.pack()\n",
    "\n",
    "# Function to update label\n",
    "def show_input():\n",
    "    label.config(text=entry.get())\n",
    "\n",
    "# Button\n",
    "btn = tk.Button(root, text=\"Show\", command=show_input)\n",
    "btn.pack()\n",
    "\n",
    "root.mainloop()"
   ]
  }
 ],
 "metadata": {
  "kernelspec": {
   "display_name": "Python 3",
   "language": "python",
   "name": "python3"
  },
  "language_info": {
   "codemirror_mode": {
    "name": "ipython",
    "version": 3
   },
   "file_extension": ".py",
   "mimetype": "text/x-python",
   "name": "python",
   "nbconvert_exporter": "python",
   "pygments_lexer": "ipython3",
   "version": "3.12.1"
  }
 },
 "nbformat": 4,
 "nbformat_minor": 2
}
