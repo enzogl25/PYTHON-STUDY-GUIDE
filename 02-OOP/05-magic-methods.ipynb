{
 "cells": [
  {
   "cell_type": "markdown",
   "metadata": {},
   "source": [
    "# ✨ Magic Methods in Python\n",
    "\n",
    "Magic methods (a.k.a. **dunder methods**) allow you to customize how your objects behave in different situations.\n",
    "\n",
    "Some common ones:\n",
    "\n",
    "- `__init__` → constructor\n",
    "- `__str__` → string representation\n",
    "- `__len__` → length of the object\n",
    "- `__eq__`, `__lt__`, `__gt__` → comparison\n",
    "- `__add__`, `__sub__`, etc. → arithmetic"
   ]
  },
  {
   "cell_type": "markdown",
   "metadata": {},
   "source": [
    "✅`__str__`: String Representation"
   ]
  },
  {
   "cell_type": "code",
   "execution_count": 1,
   "metadata": {},
   "outputs": [
    {
     "name": "stdout",
     "output_type": "stream",
     "text": [
      "\"1984\" by George Orwell\n"
     ]
    }
   ],
   "source": [
    "class Book:\n",
    "    def __init__(self, title, author):\n",
    "        self.title = title\n",
    "        self.author = author\n",
    "\n",
    "    def __str__(self):\n",
    "        return f'\"{self.title}\" by {self.author}'\n",
    "\n",
    "book = Book(\"1984\", \"George Orwell\")\n",
    "print(book)  # Triggers __str__"
   ]
  },
  {
   "cell_type": "markdown",
   "metadata": {},
   "source": [
    "✅`__len__`: Length Support"
   ]
  },
  {
   "cell_type": "code",
   "execution_count": 2,
   "metadata": {},
   "outputs": [
    {
     "name": "stdout",
     "output_type": "stream",
     "text": [
      "Number of songs: 3\n"
     ]
    }
   ],
   "source": [
    "class Playlist:\n",
    "    def __init__(self, name, songs):\n",
    "        self.name = name\n",
    "        self.songs = songs\n",
    "\n",
    "    def __len__(self):\n",
    "        return len(self.songs)\n",
    "\n",
    "pl = Playlist(\"My Vibes\", [\"Song A\", \"Song B\", \"Song C\"])\n",
    "print(\"Number of songs:\", len(pl))  # Triggers __len__"
   ]
  },
  {
   "cell_type": "markdown",
   "metadata": {},
   "source": [
    "✅`__eq__`: Equality Comparison"
   ]
  },
  {
   "cell_type": "code",
   "execution_count": 4,
   "metadata": {},
   "outputs": [
    {
     "name": "stdout",
     "output_type": "stream",
     "text": [
      "True\n",
      "False\n"
     ]
    }
   ],
   "source": [
    "class Person:\n",
    "    def __init__(self, name):\n",
    "        self.name = name\n",
    "\n",
    "    def __eq__(self, other):\n",
    "        return self.name == other.name\n",
    "\n",
    "p1 = Person(\"Alice\")\n",
    "p2 = Person(\"Alice\")\n",
    "p3 = Person(\"Enzo\")\n",
    "\n",
    "print(p1 == p2)  # True\n",
    "print(p1 == p3)  # False"
   ]
  },
  {
   "cell_type": "markdown",
   "metadata": {},
   "source": [
    "✅`__add__` : Custom Addition"
   ]
  },
  {
   "cell_type": "code",
   "execution_count": 5,
   "metadata": {},
   "outputs": [
    {
     "name": "stdout",
     "output_type": "stream",
     "text": [
      "$80\n"
     ]
    }
   ],
   "source": [
    "class Wallet:\n",
    "    def __init__(self, amount):\n",
    "        self.amount = amount\n",
    "\n",
    "    def __add__(self, other):\n",
    "        return Wallet(self.amount + other.amount)\n",
    "\n",
    "    def __str__(self):\n",
    "        return f\"${self.amount}\"\n",
    "\n",
    "w1 = Wallet(50)\n",
    "w2 = Wallet(30)\n",
    "w3 = w1 + w2\n",
    "print(w3)  # $80"
   ]
  },
  {
   "cell_type": "code",
   "execution_count": 6,
   "metadata": {},
   "outputs": [
    {
     "name": "stdout",
     "output_type": "stream",
     "text": [
      "25°C\n",
      "30°C\n",
      "True\n",
      "55°C\n",
      "55°C\n"
     ]
    }
   ],
   "source": [
    "class Temperature:\n",
    "    def __init__(self, celcius):\n",
    "        self.celcius = celcius\n",
    "    \n",
    "    def __str__(self):\n",
    "        return f\"{self.celcius}°C\"\n",
    "    \n",
    "    def __add__(self, other):\n",
    "        return Temperature(self.celcius + other.celcius)\n",
    "    \n",
    "    def __lt__(self, other):\n",
    "        return self.celcius < other.celcius\n",
    "\n",
    "t1 = Temperature(25)\n",
    "t2 = Temperature(30)\n",
    "\n",
    "print(t1)\n",
    "print(t2)\n",
    "print(t1 < t2)\n",
    "print(t1 + t2)\n",
    "t3 = t1 + t2\n",
    "print(t3)              "
   ]
  }
 ],
 "metadata": {
  "kernelspec": {
   "display_name": "Python 3",
   "language": "python",
   "name": "python3"
  },
  "language_info": {
   "codemirror_mode": {
    "name": "ipython",
    "version": 3
   },
   "file_extension": ".py",
   "mimetype": "text/x-python",
   "name": "python",
   "nbconvert_exporter": "python",
   "pygments_lexer": "ipython3",
   "version": "3.12.1"
  }
 },
 "nbformat": 4,
 "nbformat_minor": 2
}
