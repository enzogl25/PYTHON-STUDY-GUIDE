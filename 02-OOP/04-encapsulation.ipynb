{
 "cells": [
  {
   "cell_type": "markdown",
   "metadata": {},
   "source": [
    "# 🔒 Encapsulation in Python\n",
    "\n",
    "**Encapsulation** is about **hiding internal details** of how an object works and only exposing what’s necessary.\n",
    "\n",
    "It protects the object’s internal state and allows you to control access using:\n",
    "- **Public** attributes/methods\n",
    "- **Protected** (convention: `_name`)\n",
    "- **Private** (name-mangled: `__name`)"
   ]
  },
  {
   "cell_type": "code",
   "execution_count": null,
   "metadata": {},
   "outputs": [],
   "source": [
    "class Account:\n",
    "    def __init__(self, owner, balance):\n",
    "        self.owner = owner        # Public\n",
    "        self._type = \"Checking\"   # Protected (convention)\n",
    "        self.__balance = balance  # Private (name-mangled)\n",
    "\n",
    "    def deposit(self, amount):\n",
    "        self.__balance += amount\n",
    "\n",
    "    def withdraw(self, amount):\n",
    "        if amount <= self.__balance:\n",
    "            self.__balance -= amount\n",
    "        else:\n",
    "            print(\"Insufficient funds\")\n",
    "\n",
    "    def get_balance(self):\n",
    "        return self.__balance"
   ]
  },
  {
   "cell_type": "markdown",
   "metadata": {},
   "source": [
    "🔍 Accessing the Data"
   ]
  },
  {
   "cell_type": "code",
   "execution_count": 3,
   "metadata": {},
   "outputs": [
    {
     "name": "stdout",
     "output_type": "stream",
     "text": [
      "Alice\n",
      "Checking\n",
      "1000\n",
      "1000\n"
     ]
    }
   ],
   "source": [
    "class Account:\n",
    "    def __init__(self, owner, balance):\n",
    "        self.owner = owner        # Public\n",
    "        self._type = \"Checking\"   # Protected (convention)\n",
    "        self.__balance = balance  # Private (name-mangled)\n",
    "\n",
    "    def deposit(self, amount):\n",
    "        self.__balance += amount\n",
    "\n",
    "    def withdraw(self, amount):\n",
    "        if amount <= self.__balance:\n",
    "            self.__balance -= amount\n",
    "        else:\n",
    "            print(\"Insufficient funds\")\n",
    "\n",
    "    def get_balance(self):\n",
    "        return self.__balance\n",
    "\n",
    "\n",
    "acc = Account(\"Alice\", 1000)\n",
    "\n",
    "print(acc.owner)         # Public\n",
    "print(acc._type)         # Accessible but should be treated as \"protected\"\n",
    "# print(acc.__balance)   # ❌ Error: private attribute\n",
    "print(acc.get_balance()) # ✅ Recommended way\n",
    "# Python uses name mangling to hide __balance\n",
    "print(acc._Account__balance)  # ⚠️ Not recommended, but possible\n"
   ]
  },
  {
   "cell_type": "code",
   "execution_count": null,
   "metadata": {},
   "outputs": [
    {
     "name": "stdout",
     "output_type": "stream",
     "text": [
      "Password is correct? True\n",
      "✅ Password changed!\n",
      "New password is correct? True\n"
     ]
    }
   ],
   "source": [
    "class User:\n",
    "    def __init__(self, username, password):\n",
    "        self.username = username\n",
    "        self.__password = password  # private\n",
    "\n",
    "    def check_password(self, input_password):\n",
    "        \"\"\"\n",
    "        Checks if the provided password matches the user's password.\n",
    "        Returns True if correct, False otherwise.\n",
    "        \"\"\"\n",
    "        return input_password == self.__password\n",
    "\n",
    "    def change_password(self, old, new):\n",
    "        \"\"\"\n",
    "        Changes password only if 'old' matches current password.\n",
    "        \"\"\"\n",
    "        if old == self.__password:\n",
    "            self.__password = new\n",
    "            print(\"Password changed!\")\n",
    "        else:\n",
    "            print(\"Wrong password! Access denied.\")\n",
    "            \n",
    "u1 = User(\"enzogl\", \"1234\")\n",
    "\n",
    "# Check if password is correct\n",
    "print(\"Password is correct?\", u1.check_password(\"1234\"))\n",
    "\n",
    "# Try changing it\n",
    "u1.change_password(\"1234\", \"12345\")\n",
    "\n",
    "# Try checking with new password\n",
    "print(\"New password is correct?\", u1.check_password(\"12345\"))\n",
    "\n"
   ]
  }
 ],
 "metadata": {
  "kernelspec": {
   "display_name": "Python 3",
   "language": "python",
   "name": "python3"
  },
  "language_info": {
   "codemirror_mode": {
    "name": "ipython",
    "version": 3
   },
   "file_extension": ".py",
   "mimetype": "text/x-python",
   "name": "python",
   "nbconvert_exporter": "python",
   "pygments_lexer": "ipython3",
   "version": "3.12.1"
  }
 },
 "nbformat": 4,
 "nbformat_minor": 2
}
