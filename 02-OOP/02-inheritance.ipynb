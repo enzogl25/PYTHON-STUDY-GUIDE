{
 "cells": [
  {
   "cell_type": "markdown",
   "metadata": {},
   "source": [
    "# 🧬 Inheritance in Python\n",
    "\n",
    "Inheritance allows one class (child) to use the properties and methods of another class (parent).\n",
    "\n",
    "This promotes **code reuse** and helps create a logical class structure.\n"
   ]
  },
  {
   "cell_type": "code",
   "execution_count": 1,
   "metadata": {},
   "outputs": [
    {
     "name": "stdout",
     "output_type": "stream",
     "text": [
      "Rex says woof!\n",
      "Whiskers says meow.\n"
     ]
    }
   ],
   "source": [
    "# Parent class\n",
    "class Animal:\n",
    "    def __init__(self, name):\n",
    "        self.name = name\n",
    "\n",
    "    def speak(self):\n",
    "        print(f\"{self.name} makes a sound.\")\n",
    "\n",
    "# Child class\n",
    "class Dog(Animal):\n",
    "    def speak(self):\n",
    "        print(f\"{self.name} says woof!\")\n",
    "\n",
    "# Another child class\n",
    "class Cat(Animal):\n",
    "    def speak(self):\n",
    "        print(f\"{self.name} says meow.\")\n",
    "\n",
    "dog = Dog(\"Rex\")\n",
    "cat = Cat(\"Whiskers\")\n",
    "\n",
    "dog.speak()\n",
    "cat.speak()\n",
    "\n"
   ]
  },
  {
   "cell_type": "markdown",
   "metadata": {},
   "source": [
    "## 🔄 Overriding Methods\n",
    "\n",
    "**Method overriding** is when a child class defines a method **with the same name** as a method in the parent class.\n",
    "\n",
    "When you call that method on a child object, Python will use the **child version**, not the parent’s.\n",
    "\n",
    "This lets child classes **customize behavior**."
   ]
  },
  {
   "cell_type": "code",
   "execution_count": 3,
   "metadata": {},
   "outputs": [
    {
     "name": "stdout",
     "output_type": "stream",
     "text": [
      "This animal makes a sound.\n",
      "The dog barks.\n"
     ]
    }
   ],
   "source": [
    "class Animal:\n",
    "    def speak(self):\n",
    "        print(\"This animal makes a sound.\")\n",
    "\n",
    "class Dog(Animal):\n",
    "    def speak(self):  # This overrides the parent method\n",
    "        print(\"The dog barks.\")\n",
    "\n",
    "animal = Animal()\n",
    "dog = Dog()\n",
    "\n",
    "animal.speak()  # Output: This animal makes a sound.\n",
    "dog.speak()     # Output: The dog barks."
   ]
  },
  {
   "cell_type": "markdown",
   "metadata": {},
   "source": [
    "### 💡 Tip\n",
    "\n",
    "To override a method, just create a method in the child class **with the same name** as the one in the parent class.\n",
    "\n",
    "You can still access the original method using `super()` if needed."
   ]
  },
  {
   "cell_type": "markdown",
   "metadata": {},
   "source": [
    "📌 super() and Reusing Parent Code"
   ]
  },
  {
   "cell_type": "markdown",
   "metadata": {},
   "source": [
    "Use `super()` to call the parent’s `__init__` or method from the child class."
   ]
  },
  {
   "cell_type": "code",
   "execution_count": 2,
   "metadata": {},
   "outputs": [
    {
     "name": "stdout",
     "output_type": "stream",
     "text": [
      "Polly sings beautifully.\n",
      "Pingu chirps quietly.\n"
     ]
    }
   ],
   "source": [
    "class Bird(Animal):\n",
    "    def __init__(self, name, can_fly):\n",
    "        super().__init__(name)\n",
    "        self.can_fly = can_fly\n",
    "\n",
    "    def speak(self):\n",
    "        if self.can_fly:\n",
    "            print(f\"{self.name} sings beautifully.\")\n",
    "        else:\n",
    "            print(f\"{self.name} chirps quietly.\")\n",
    "\n",
    "parrot = Bird(\"Polly\", True)\n",
    "penguin = Bird(\"Pingu\", False)\n",
    "\n",
    "parrot.speak()\n",
    "penguin.speak()"
   ]
  },
  {
   "cell_type": "code",
   "execution_count": null,
   "metadata": {},
   "outputs": [
    {
     "name": "stdout",
     "output_type": "stream",
     "text": [
      "The engine is running\n",
      "The electric motor is now running.\n"
     ]
    }
   ],
   "source": [
    "class Vehicle:\n",
    "    def __init__(self, brand):\n",
    "        self.brand = brand\n",
    "    \n",
    "    def start_engine(self):\n",
    "        print(\"The engine is running\")\n",
    "        \n",
    "class ElectricCar(Vehicle):\n",
    "    def __init__(self, brand, battery_range):\n",
    "        super().__init__(brand)\n",
    "        self.battery_range = battery_range\n",
    "        \n",
    "    def start_engine(self):\n",
    "        super().start_engine() # If you want to include both parent and child messages\n",
    "        print(\"The electric motor is now running.\")\n",
    "\n",
    "ec = ElectricCar(\"Tesla\", 80)\n",
    "ec.start_engine()\n"
   ]
  }
 ],
 "metadata": {
  "kernelspec": {
   "display_name": "Python 3",
   "language": "python",
   "name": "python3"
  },
  "language_info": {
   "codemirror_mode": {
    "name": "ipython",
    "version": 3
   },
   "file_extension": ".py",
   "mimetype": "text/x-python",
   "name": "python",
   "nbconvert_exporter": "python",
   "pygments_lexer": "ipython3",
   "version": "3.12.1"
  }
 },
 "nbformat": 4,
 "nbformat_minor": 2
}
