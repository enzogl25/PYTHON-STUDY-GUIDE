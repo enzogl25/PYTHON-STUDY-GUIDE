{
 "cells": [
  {
   "cell_type": "markdown",
   "metadata": {},
   "source": [
    "# 🧱 Classes and Objects in Python\n",
    "\n",
    "Object-Oriented Programming (OOP) allows us to model real-world things as **objects**.\n",
    "\n",
    "A **class** is like a blueprint for creating objects.\n",
    "\n",
    "An **object** is an instance of a class."
   ]
  },
  {
   "cell_type": "code",
   "execution_count": 1,
   "metadata": {},
   "outputs": [
    {
     "name": "stdout",
     "output_type": "stream",
     "text": [
      "Hi! My name is Alice and I'm 25 years old.\n"
     ]
    }
   ],
   "source": [
    "# Define a class\n",
    "class Person:\n",
    "    def __init__(self, name, age):  # Constructor\n",
    "        self.name = name\n",
    "        self.age = age\n",
    "\n",
    "    def say_hello(self):\n",
    "        print(f\"Hi! My name is {self.name} and I'm {self.age} years old.\")\n",
    "\n",
    "# Create an object (instance)\n",
    "p1 = Person(\"Alice\", 25)\n",
    "p1.say_hello()"
   ]
  },
  {
   "cell_type": "markdown",
   "metadata": {},
   "source": [
    "🔍 Explanation"
   ]
  },
  {
   "cell_type": "markdown",
   "metadata": {},
   "source": [
    "### 📌 Key Concepts\n",
    "\n",
    "- `class`: Defines the structure and behavior of the object.\n",
    "- `__init__`: The constructor method, called when an object is created.\n",
    "- `self`: Refers to the current instance of the class.\n",
    "- Methods: Functions defined inside a class.\n",
    "\n",
    "We can create **multiple objects** from the same class:"
   ]
  },
  {
   "cell_type": "code",
   "execution_count": 6,
   "metadata": {},
   "outputs": [
    {
     "name": "stdout",
     "output_type": "stream",
     "text": [
      "Hi! My name is Enzo and I'm 20 years old.\n"
     ]
    }
   ],
   "source": [
    "p2 = Person(\"Enzo\",20)\n",
    "p2.say_hello()"
   ]
  },
  {
   "cell_type": "markdown",
   "metadata": {},
   "source": [
    "🎯 Attributes and Methods"
   ]
  },
  {
   "cell_type": "markdown",
   "metadata": {},
   "source": [
    "- Attributes are variables that belong to the object (`self.name`, `self.age`)\n",
    "- Methods are functions that belong to the object (`say_hello`)"
   ]
  },
  {
   "cell_type": "code",
   "execution_count": 7,
   "metadata": {},
   "outputs": [
    {
     "name": "stdout",
     "output_type": "stream",
     "text": [
      "Alice\n",
      "Alice is now 26 years old.\n"
     ]
    }
   ],
   "source": [
    "print(p1.name)\n",
    "p1.age += 1\n",
    "print(f\"{p1.name} is now {p1.age} years old.\")"
   ]
  },
  {
   "cell_type": "code",
   "execution_count": 11,
   "metadata": {},
   "outputs": [
    {
     "name": "stdout",
     "output_type": "stream",
     "text": [
      "This car is a Fiat, made in 2007\n"
     ]
    }
   ],
   "source": [
    "class Car:\n",
    "    def __init__(self, brand, year):  # Constructor\n",
    "        self.brand = brand\n",
    "        self.year = year\n",
    "        \n",
    "    def display_info(self):\n",
    "        print(f\"This car is a {self.brand}, made in {self.year}\")\n",
    "\n",
    "\n",
    "c1 = Car(\"Fiat\", \"2007\")\n",
    "c1.display_info()"
   ]
  }
 ],
 "metadata": {
  "kernelspec": {
   "display_name": "Python 3",
   "language": "python",
   "name": "python3"
  },
  "language_info": {
   "codemirror_mode": {
    "name": "ipython",
    "version": 3
   },
   "file_extension": ".py",
   "mimetype": "text/x-python",
   "name": "python",
   "nbconvert_exporter": "python",
   "pygments_lexer": "ipython3",
   "version": "3.12.1"
  }
 },
 "nbformat": 4,
 "nbformat_minor": 2
}
