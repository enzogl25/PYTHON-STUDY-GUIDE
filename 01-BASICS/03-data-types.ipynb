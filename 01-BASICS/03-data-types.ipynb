{
 "cells": [
  {
   "cell_type": "markdown",
   "metadata": {},
   "source": [
    "# 🧪 Data Types in Python\n",
    "\n",
    "Everything in Python has a data type.  \n",
    "Here are the most commonly used types:"
   ]
  },
  {
   "cell_type": "markdown",
   "metadata": {},
   "source": [
    "## 📦 Built-in Data Types (Examples)\n",
    "\n",
    "- `int` → Integer (e.g. `10`, `-4`)\n",
    "- `float` → Decimal numbers (e.g. `3.14`, `-0.01`)\n",
    "- `str` → Text or characters (e.g. `\"hello\"`, `'a'`)\n",
    "- `bool` → Boolean (True/False)\n",
    "- `list` → Ordered collection (e.g. `[1, 2, 3]`)\n",
    "- `tuple` → Immutable ordered collection (e.g. `(1, 2)`)\n",
    "- `dict` → Key-value pairs (e.g. `{\"name\": \"Ana\"}`)\n",
    "- `set` → Unordered unique values (e.g. `{1, 2, 3}`)\n"
   ]
  },
  {
   "cell_type": "code",
   "execution_count": 1,
   "metadata": {},
   "outputs": [
    {
     "name": "stdout",
     "output_type": "stream",
     "text": [
      "42\n",
      "3.14\n",
      "Python\n",
      "True\n",
      "[1, 2, 3, 4]\n",
      "(10.0, 20.0)\n",
      "{'name': 'Alice', 'age': 25}\n",
      "{1, 2, 3}\n"
     ]
    }
   ],
   "source": [
    "# Examples of different data types\n",
    "integer_number = 42\n",
    "decimal_number = 3.14\n",
    "text = \"Python\"\n",
    "boolean_value = True\n",
    "items_list = [1, 2, 3, 4]\n",
    "coordinates = (10.0, 20.0)\n",
    "person = {\"name\": \"Alice\", \"age\": 25}\n",
    "unique_numbers = {1, 2, 3, 3, 2}\n",
    "\n",
    "# Output all of them\n",
    "print(integer_number)\n",
    "print(decimal_number)\n",
    "print(text)\n",
    "print(boolean_value)\n",
    "print(items_list)\n",
    "print(coordinates)\n",
    "print(person)\n",
    "print(unique_numbers)"
   ]
  },
  {
   "cell_type": "markdown",
   "metadata": {},
   "source": [
    "### 🧠 Fun Facts\n",
    "\n",
    "- Lists are **mutable**, meaning you can change their contents.\n",
    "- Tuples are **immutable** — you can’t change them once created.\n",
    "- Sets automatically remove **duplicate** values.\n",
    "- Dictionaries use **keys** to access values.\n"
   ]
  },
  {
   "cell_type": "code",
   "execution_count": 2,
   "metadata": {},
   "outputs": [
    {
     "name": "stdout",
     "output_type": "stream",
     "text": [
      "Python\n",
      "<class 'float'>\n",
      "Is it popular? True\n"
     ]
    }
   ],
   "source": [
    "my_data = {\n",
    "    \"language\": \"Python\",\n",
    "    \"version\": 3.11,\n",
    "    \"popular\": True\n",
    "}\n",
    "\n",
    "print(my_data[\"language\"])\n",
    "print(type(my_data[\"version\"]))\n",
    "print(\"Is it popular?\", my_data[\"popular\"])"
   ]
  }
 ],
 "metadata": {
  "kernelspec": {
   "display_name": "Python 3",
   "language": "python",
   "name": "python3"
  },
  "language_info": {
   "codemirror_mode": {
    "name": "ipython",
    "version": 3
   },
   "file_extension": ".py",
   "mimetype": "text/x-python",
   "name": "python",
   "nbconvert_exporter": "python",
   "pygments_lexer": "ipython3",
   "version": "3.12.1"
  }
 },
 "nbformat": 4,
 "nbformat_minor": 2
}
