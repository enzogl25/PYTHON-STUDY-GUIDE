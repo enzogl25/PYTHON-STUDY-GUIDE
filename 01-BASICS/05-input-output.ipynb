{
 "cells": [
  {
   "cell_type": "markdown",
   "metadata": {},
   "source": [
    "# 📥 Input and 📤 Output in Python\n",
    "\n",
    "Python allows us to interact with the user using:\n",
    "\n",
    "- `input()` → to receive data\n",
    "- `print()` → to show data\n",
    "\n",
    "Let's see them in action!"
   ]
  },
  {
   "cell_type": "code",
   "execution_count": 1,
   "metadata": {},
   "outputs": [
    {
     "name": "stdout",
     "output_type": "stream",
     "text": [
      "Hello, Enzo!\n"
     ]
    }
   ],
   "source": [
    "# Getting input from the user\n",
    "name = input(\"What's your name? \")\n",
    "\n",
    "# Showing output\n",
    "print(\"Hello,\", name + \"!\")"
   ]
  },
  {
   "cell_type": "markdown",
   "metadata": {},
   "source": [
    "### 🧠 Important Notes\n",
    "\n",
    "- The `input()` function **always returns a string**.\n",
    "- You must convert it if you want to use it as a number:"
   ]
  },
  {
   "cell_type": "code",
   "execution_count": 2,
   "metadata": {},
   "outputs": [
    {
     "name": "stdout",
     "output_type": "stream",
     "text": [
      "Your age is: 12\n",
      "Type of age: <class 'str'>\n"
     ]
    }
   ],
   "source": [
    "age = input(\"How old are you? \")\n",
    "print(\"Your age is:\", age)\n",
    "print(\"Type of age:\", type(age))  # This will be <class 'str'>"
   ]
  },
  {
   "cell_type": "markdown",
   "metadata": {},
   "source": [
    "### 🔁 Converting Input to Numbers\n",
    "\n",
    "Use `int()` or `float()` to convert strings into numbers:"
   ]
  },
  {
   "cell_type": "code",
   "execution_count": 3,
   "metadata": {},
   "outputs": [
    {
     "name": "stdout",
     "output_type": "stream",
     "text": [
      "You are 12 years old and 1.71 meters tall.\n"
     ]
    }
   ],
   "source": [
    "age = int(input(\"Enter your age: \"))\n",
    "height = float(input(\"Enter your height (in meters): \"))\n",
    "\n",
    "print(f\"You are {age} years old and {height} meters tall.\")"
   ]
  }
 ],
 "metadata": {
  "kernelspec": {
   "display_name": "Python 3",
   "language": "python",
   "name": "python3"
  },
  "language_info": {
   "codemirror_mode": {
    "name": "ipython",
    "version": 3
   },
   "file_extension": ".py",
   "mimetype": "text/x-python",
   "name": "python",
   "nbconvert_exporter": "python",
   "pygments_lexer": "ipython3",
   "version": "3.12.1"
  }
 },
 "nbformat": 4,
 "nbformat_minor": 2
}
