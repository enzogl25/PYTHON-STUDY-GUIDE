{
 "cells": [
  {
   "cell_type": "markdown",
   "metadata": {},
   "source": [
    "# 🧵 Strings in Python\n",
    "\n",
    "Strings are used to store text. In Python, you can use single `'` or double `\"` quotes.\n",
    "\n",
    "Let's explore how to create and manipulate strings."
   ]
  },
  {
   "cell_type": "code",
   "execution_count": 1,
   "metadata": {},
   "outputs": [
    {
     "name": "stdout",
     "output_type": "stream",
     "text": [
      "Hello, Alice!\n"
     ]
    }
   ],
   "source": [
    "# Creating strings\n",
    "name = \"Alice\"\n",
    "greeting = 'Hello'\n",
    "\n",
    "print(greeting + \", \" + name + \"!\")"
   ]
  },
  {
   "cell_type": "markdown",
   "metadata": {},
   "source": [
    "### 🔧 String Operations\n",
    "\n",
    "You can perform several operations on strings:"
   ]
  },
  {
   "cell_type": "code",
   "execution_count": 2,
   "metadata": {},
   "outputs": [
    {
     "name": "stdout",
     "output_type": "stream",
     "text": [
      "17\n",
      "PYTHON IS AWESOME\n",
      "python is awesome\n",
      "Python is powerful\n",
      "True\n"
     ]
    }
   ],
   "source": [
    "text = \"Python is awesome\"\n",
    "\n",
    "# Length of the string\n",
    "print(len(text))\n",
    "\n",
    "# Upper and lower case\n",
    "print(text.upper())\n",
    "print(text.lower())\n",
    "\n",
    "# Replace words\n",
    "print(text.replace(\"awesome\", \"powerful\"))\n",
    "\n",
    "# Check if a word is in the string\n",
    "print(\"Python\" in text)"
   ]
  },
  {
   "cell_type": "markdown",
   "metadata": {},
   "source": [
    "### 🔍 Indexing and Slicing\n",
    "\n",
    "You can access characters by their index:"
   ]
  },
  {
   "cell_type": "code",
   "execution_count": 1,
   "metadata": {},
   "outputs": [
    {
     "name": "stdout",
     "output_type": "stream",
     "text": [
      "P\n",
      "n\n",
      "Pyt\n",
      "thon\n"
     ]
    }
   ],
   "source": [
    "word = \"Python\"\n",
    "\n",
    "print(word[0])   # First letter\n",
    "print(word[-1])  # Last letter\n",
    "print(word[0:3]) # Characters from index 0 to 2\n",
    "print(word[2:])  # From index 2 to the end"
   ]
  },
  {
   "cell_type": "markdown",
   "metadata": {},
   "source": [
    "### 🧪 String Formatting\n",
    "\n",
    "Python has several ways to format strings:"
   ]
  },
  {
   "cell_type": "code",
   "execution_count": 3,
   "metadata": {},
   "outputs": [
    {
     "name": "stdout",
     "output_type": "stream",
     "text": [
      "My name is Enzo and I'm 30 years old.\n",
      "My name is Enzo and I'm 30 years old.\n"
     ]
    }
   ],
   "source": [
    "name = \"Enzo\"\n",
    "age = 30\n",
    "\n",
    "# f-string (recommended)\n",
    "print(f\"My name is {name} and I'm {age} years old.\")\n",
    "\n",
    "# .format() method\n",
    "print(\"My name is {} and I'm {} years old.\".format(name, age))"
   ]
  }
 ],
 "metadata": {
  "kernelspec": {
   "display_name": "Python 3",
   "language": "python",
   "name": "python3"
  },
  "language_info": {
   "codemirror_mode": {
    "name": "ipython",
    "version": 3
   },
   "file_extension": ".py",
   "mimetype": "text/x-python",
   "name": "python",
   "nbconvert_exporter": "python",
   "pygments_lexer": "ipython3",
   "version": "3.12.1"
  }
 },
 "nbformat": 4,
 "nbformat_minor": 2
}
