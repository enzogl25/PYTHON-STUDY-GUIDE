{
 "cells": [
  {
   "cell_type": "markdown",
   "metadata": {},
   "source": [
    "# 📚 Lists, Tuples, Dictionaries and Sets\n",
    "\n",
    "These are core data structures in Python:\n",
    "\n",
    "- `list`: Ordered, changeable, allows duplicates.\n",
    "- `tuple`: Ordered, unchangeable (immutable), allows duplicates.\n",
    "- `dict`: Unordered (as of Python 3.6+ ordered by insertion), changeable, uses key-value pairs.\n",
    "- `set`: Unordered, unindexed, does not allow duplicates, and is used to store unique values.\n"
   ]
  },
  {
   "cell_type": "markdown",
   "metadata": {},
   "source": [
    "📦 Lists"
   ]
  },
  {
   "cell_type": "code",
   "execution_count": 1,
   "metadata": {},
   "outputs": [
    {
     "name": "stdout",
     "output_type": "stream",
     "text": [
      "['apple', 'banana', 'cherry']\n",
      "apple\n",
      "3\n",
      "['apple', 'grape', 'orange']\n"
     ]
    }
   ],
   "source": [
    "# Creating a list\n",
    "fruits = [\"apple\", \"banana\", \"cherry\"]\n",
    "\n",
    "print(fruits)\n",
    "print(fruits[0])  # Access first item\n",
    "print(len(fruits))  # Number of items\n",
    "\n",
    "# Modify list\n",
    "fruits.append(\"orange\")      # Add item\n",
    "fruits.remove(\"banana\")      # Remove item\n",
    "fruits[1] = \"grape\"          # Change item\n",
    "\n",
    "print(fruits)"
   ]
  },
  {
   "cell_type": "markdown",
   "metadata": {},
   "source": [
    "## 🔁 Looping Through a List\n",
    "\n",
    "You can loop through a list with a `for` loop:"
   ]
  },
  {
   "cell_type": "code",
   "execution_count": 4,
   "metadata": {},
   "outputs": [
    {
     "name": "stdout",
     "output_type": "stream",
     "text": [
      "I like apple\n",
      "I like banana\n",
      "I like cherry\n"
     ]
    }
   ],
   "source": [
    "fruits = [\"apple\", \"banana\", \"cherry\"]\n",
    "\n",
    "for fruit in fruits:\n",
    "    print(\"I like\", fruit)"
   ]
  },
  {
   "cell_type": "markdown",
   "metadata": {},
   "source": [
    "## 🧰 More List Methods\n",
    "\n",
    "Here are more ways to add and remove items from a list:"
   ]
  },
  {
   "cell_type": "code",
   "execution_count": 5,
   "metadata": {},
   "outputs": [
    {
     "name": "stdout",
     "output_type": "stream",
     "text": [
      "After adding: [1, 1.5, 2, 3, 4, 5, 6]\n",
      "After removing: [2, 3, 4, 5]\n",
      "Popped items: 1 6\n"
     ]
    }
   ],
   "source": [
    "numbers = [1, 2, 3]\n",
    "\n",
    "numbers.append(4)        # Add to the end\n",
    "numbers.insert(1, 1.5)    # Insert at index 1\n",
    "numbers.extend([5, 6])    # Add multiple items\n",
    "\n",
    "print(\"After adding:\", numbers)\n",
    "\n",
    "numbers.remove(1.5)       # Remove specific item\n",
    "last = numbers.pop()      # Remove and return last item\n",
    "first = numbers.pop(0)    # Remove and return item at index 0\n",
    "\n",
    "print(\"After removing:\", numbers)\n",
    "print(\"Popped items:\", first, last)"
   ]
  },
  {
   "cell_type": "markdown",
   "metadata": {},
   "source": [
    "📌 Tuples"
   ]
  },
  {
   "cell_type": "code",
   "execution_count": 2,
   "metadata": {},
   "outputs": [
    {
     "name": "stdout",
     "output_type": "stream",
     "text": [
      "(10.5, 20.3)\n",
      "10.5\n"
     ]
    }
   ],
   "source": [
    "# Creating a tuple\n",
    "coordinates = (10.5, 20.3)\n",
    "\n",
    "print(coordinates)\n",
    "print(coordinates[0])\n",
    "\n",
    "# Tuples can't be changed\n",
    "# coordinates[0] = 99  # ❌ This will cause an error"
   ]
  },
  {
   "cell_type": "markdown",
   "metadata": {},
   "source": [
    "## 🔁 Looping Through a Tuple\n",
    "\n",
    "Even though tuples are immutable, you can loop through them like lists:"
   ]
  },
  {
   "cell_type": "code",
   "execution_count": 6,
   "metadata": {},
   "outputs": [
    {
     "name": "stdout",
     "output_type": "stream",
     "text": [
      "Dimension: 1920\n",
      "Dimension: 1080\n",
      "Dimension: 1020\n"
     ]
    }
   ],
   "source": [
    "dimensions = (1920, 1080, 1020)\n",
    "\n",
    "for value in dimensions:\n",
    "    print(\"Dimension:\", value)"
   ]
  },
  {
   "cell_type": "markdown",
   "metadata": {},
   "source": [
    "🗂️ Dictionaries"
   ]
  },
  {
   "cell_type": "markdown",
   "metadata": {},
   "source": [
    "Dictionaries store **key-value** pairs."
   ]
  },
  {
   "cell_type": "code",
   "execution_count": 3,
   "metadata": {},
   "outputs": [
    {
     "name": "stdout",
     "output_type": "stream",
     "text": [
      "Alice\n",
      "25\n",
      "dict_keys(['name', 'age', 'is_student'])\n",
      "dict_values(['Alice', 25, True])\n",
      "{'name': 'Alice', 'age': 26, 'city': 'New York'}\n"
     ]
    }
   ],
   "source": [
    "person = {\n",
    "    \"name\": \"Alice\",\n",
    "    \"age\": 25,\n",
    "    \"is_student\": True\n",
    "}\n",
    "\n",
    "print(person[\"name\"])\n",
    "print(person.get(\"age\"))\n",
    "print(person.keys())\n",
    "print(person.values())\n",
    "\n",
    "# Add or update a key\n",
    "person[\"age\"] = 26\n",
    "person[\"city\"] = \"New York\"\n",
    "\n",
    "# Remove a key\n",
    "del person[\"is_student\"]\n",
    "\n",
    "print(person)"
   ]
  },
  {
   "cell_type": "markdown",
   "metadata": {},
   "source": [
    "## 🔁 Looping Through a Dictionary\n",
    "\n",
    "You can loop through keys, values, or both:"
   ]
  },
  {
   "cell_type": "code",
   "execution_count": 7,
   "metadata": {},
   "outputs": [
    {
     "name": "stdout",
     "output_type": "stream",
     "text": [
      "name = Alice\n",
      "age = 25\n",
      "city = New York\n",
      "Value: Alice\n",
      "Value: 25\n",
      "Value: New York\n",
      "name → Alice\n",
      "age → 25\n",
      "city → New York\n"
     ]
    }
   ],
   "source": [
    "person = {\n",
    "    \"name\": \"Alice\",\n",
    "    \"age\": 25,\n",
    "    \"city\": \"New York\"\n",
    "}\n",
    "\n",
    "# Loop through keys\n",
    "for key in person:\n",
    "    print(key, \"=\", person[key])\n",
    "\n",
    "# Loop through values\n",
    "for value in person.values():\n",
    "    print(\"Value:\", value)\n",
    "\n",
    "# Loop through key-value pairs\n",
    "for key, value in person.items():\n",
    "    print(f\"{key} → {value}\")"
   ]
  },
  {
   "cell_type": "markdown",
   "metadata": {},
   "source": [
    "# 🧺 Sets in Python\n",
    "\n",
    "A `set` is an unordered collection of unique items.\n",
    "\n",
    "- No duplicates allowed\n",
    "- No guaranteed order\n",
    "- Very fast for checking membership"
   ]
  },
  {
   "cell_type": "code",
   "execution_count": 8,
   "metadata": {},
   "outputs": [
    {
     "name": "stdout",
     "output_type": "stream",
     "text": [
      "{1, 2, 3}\n"
     ]
    }
   ],
   "source": [
    "my_set = {1, 2, 3, 3, 2}\n",
    "\n",
    "print(my_set)  # Output: {1, 2, 3}"
   ]
  },
  {
   "cell_type": "markdown",
   "metadata": {},
   "source": [
    "➕ Adding and ➖ Removing"
   ]
  },
  {
   "cell_type": "code",
   "execution_count": null,
   "metadata": {},
   "outputs": [],
   "source": [
    "my_set = {1, 2, 3, 3, 2}\n",
    "my_set.add(4)      # Add a single element\n",
    "my_set.update([5, 6])  # Add multiple elements\n",
    "my_set.discard(2)  # Remove element if present\n",
    "my_set.remove(1)   # Remove element (error if not present)\n",
    "my_set.pop()       # Remove a random item\n",
    "my_set.clear()     # Remove all items\n",
    "\n",
    "print(my_set)\n"
   ]
  },
  {
   "cell_type": "markdown",
   "metadata": {},
   "source": [
    "🔁 Looping Through a Set"
   ]
  },
  {
   "cell_type": "code",
   "execution_count": null,
   "metadata": {},
   "outputs": [
    {
     "name": "stdout",
     "output_type": "stream",
     "text": [
      "Color: red\n",
      "Color: blue\n",
      "Color: green\n"
     ]
    }
   ],
   "source": [
    "colors = {\"red\", \"green\", \"blue\"}\n",
    "\n",
    "for color in colors:\n",
    "    print(\"Color:\", color)"
   ]
  },
  {
   "cell_type": "markdown",
   "metadata": {},
   "source": [
    "You can perform **mathematical set operations** like union, intersection, and difference:"
   ]
  },
  {
   "cell_type": "code",
   "execution_count": 11,
   "metadata": {},
   "outputs": [
    {
     "name": "stdout",
     "output_type": "stream",
     "text": [
      "Union: {1, 2, 3, 4, 5}\n",
      "Intersection: {3}\n",
      "Difference: {1, 2}\n",
      "Symmetric Difference: {1, 2, 4, 5}\n"
     ]
    }
   ],
   "source": [
    "a = {1, 2, 3}\n",
    "b = {3, 4, 5}\n",
    "\n",
    "print(\"Union:\", a | b)\n",
    "print(\"Intersection:\", a & b)\n",
    "print(\"Difference:\", a - b)\n",
    "print(\"Symmetric Difference:\", a ^ b)"
   ]
  }
 ],
 "metadata": {
  "kernelspec": {
   "display_name": "Python 3",
   "language": "python",
   "name": "python3"
  },
  "language_info": {
   "codemirror_mode": {
    "name": "ipython",
    "version": 3
   },
   "file_extension": ".py",
   "mimetype": "text/x-python",
   "name": "python",
   "nbconvert_exporter": "python",
   "pygments_lexer": "ipython3",
   "version": "3.12.1"
  }
 },
 "nbformat": 4,
 "nbformat_minor": 2
}
