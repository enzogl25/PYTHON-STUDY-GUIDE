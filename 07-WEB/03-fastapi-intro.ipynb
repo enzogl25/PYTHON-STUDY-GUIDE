{
 "cells": [
  {
   "cell_type": "markdown",
   "metadata": {},
   "source": [
    "# ⚡ FastAPI — Modern Web APIs with Python\n",
    "\n",
    "FastAPI is a fast and modern web framework for building APIs using Python 3.6+.\n",
    "\n",
    "✅ Built-in support for async  \n",
    "✅ Auto-generates docs (Swagger + ReDoc)  \n",
    "✅ Type-hinting + data validation  \n",
    "✅ Super fast performance\n",
    "\n",
    "Install FastAPI and Uvicorn:\n",
    "```bash\n",
    "pip install fastapi uvicorn"
   ]
  },
  {
   "cell_type": "markdown",
   "metadata": {},
   "source": [
    "✅ Basic FastAPI App"
   ]
  },
  {
   "cell_type": "code",
   "execution_count": 2,
   "metadata": {},
   "outputs": [],
   "source": [
    "# Create a file: `main.py`\n",
    "from fastapi import FastAPI\n",
    "\n",
    "app = FastAPI()\n",
    "\n",
    "@app.get(\"/\")\n",
    "def home():\n",
    "    return {\"message\": \"Hello from FastAPI!\"}"
   ]
  },
  {
   "cell_type": "markdown",
   "metadata": {},
   "source": [
    "🔥 Bonus: Auto Docs\n",
    "\n",
    "- Swagger UI: http://127.0.0.1:8000/docs\n",
    "\n",
    "- ReDoc: http://127.0.0.1:8000/redoc"
   ]
  },
  {
   "cell_type": "markdown",
   "metadata": {},
   "source": [
    "✅ Path Parameters"
   ]
  },
  {
   "cell_type": "code",
   "execution_count": null,
   "metadata": {},
   "outputs": [],
   "source": [
    "@app.get(\"/user/{name}\")\n",
    "def greet(name: str):\n",
    "    return {\"message\": f\"Hello, {name}\"}"
   ]
  },
  {
   "cell_type": "markdown",
   "metadata": {},
   "source": [
    "✅ Query Parameters"
   ]
  },
  {
   "cell_type": "code",
   "execution_count": null,
   "metadata": {},
   "outputs": [],
   "source": [
    "@app.get(\"/search\")\n",
    "def search(term: str = \"\"):\n",
    "    return {\"result\": f\"You searched for '{term}'\"}"
   ]
  },
  {
   "cell_type": "markdown",
   "metadata": {},
   "source": [
    "Try: http://127.0.0.1:8000/search?term=python"
   ]
  },
  {
   "cell_type": "code",
   "execution_count": null,
   "metadata": {},
   "outputs": [],
   "source": [
    "from pydantic import BaseModel\n",
    "\n",
    "class Item(BaseModel):\n",
    "    name: str\n",
    "    price: float\n",
    "\n",
    "@app.post(\"/items\")\n",
    "def create_item(item: Item):\n",
    "    return {\"received\": item}"
   ]
  },
  {
   "cell_type": "code",
   "execution_count": null,
   "metadata": {},
   "outputs": [],
   "source": [
    "from fastapi import FastAPI\n",
    "from pydantic import BaseModel\n",
    "\n",
    "app = FastAPI()\n",
    "\n",
    "# Route: GET /\n",
    "@app.get(\"/\")\n",
    "def home():\n",
    "    return {\"message\": \"👋 Welcome to FastAPI!\"}\n",
    "\n",
    "# Route: GET /hello/{name}\n",
    "@app.get(\"/hello/{name}\")\n",
    "def greet(name: str):\n",
    "    return {\"message\": f\"Hello, {name}!\"}\n",
    "\n",
    "# Pydantic model for POST /contact\n",
    "class Contact(BaseModel):\n",
    "    name: str\n",
    "    message: str\n",
    "\n",
    "# Route: POST /contact\n",
    "@app.post(\"/contact\")\n",
    "def contact(data: Contact):\n",
    "    return {\n",
    "        \"status\": \"✅ Received\",\n",
    "        \"from\": data.name,\n",
    "        \"message\": data.message\n",
    "    }\n"
   ]
  }
 ],
 "metadata": {
  "kernelspec": {
   "display_name": "Python 3",
   "language": "python",
   "name": "python3"
  },
  "language_info": {
   "codemirror_mode": {
    "name": "ipython",
    "version": 3
   },
   "file_extension": ".py",
   "mimetype": "text/x-python",
   "name": "python",
   "nbconvert_exporter": "python",
   "pygments_lexer": "ipython3",
   "version": "3.12.1"
  }
 },
 "nbformat": 4,
 "nbformat_minor": 2
}
