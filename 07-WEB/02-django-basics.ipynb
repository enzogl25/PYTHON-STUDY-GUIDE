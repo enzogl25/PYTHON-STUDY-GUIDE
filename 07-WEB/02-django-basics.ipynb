{
 "cells": [
  {
   "cell_type": "markdown",
   "metadata": {},
   "source": [
    "# 🏰 Django — The Web Framework for Perfectionists\n",
    "\n",
    "Django is a high-level Python web framework that encourages:\n",
    "✅ Rapid development  \n",
    "✅ Clean, reusable code  \n",
    "✅ Built-in admin panel, ORM, user auth\n",
    "\n",
    "Install Django:\n",
    "```bash\n",
    "pip install django"
   ]
  },
  {
   "cell_type": "markdown",
   "metadata": {},
   "source": [
    "\n",
    "---\n",
    "\n",
    "### ✅ Step-by-step: Create Your First Django App\n",
    "\n",
    "---\n",
    "\n",
    "#### 1️⃣ Create a project folder:\n",
    "\n",
    "```bash\n",
    "python -m django startproject myproject\n",
    "                or\n",
    "django-admin startproject mysite\n",
    "cd mysite"
   ]
  },
  {
   "cell_type": "markdown",
   "metadata": {},
   "source": [
    "#### 2️⃣ Run the development server:\n",
    "````bash\n",
    "python manage.py runserver"
   ]
  },
  {
   "cell_type": "markdown",
   "metadata": {},
   "source": [
    "Visit: http://127.0.0.1:8000"
   ]
  },
  {
   "cell_type": "markdown",
   "metadata": {},
   "source": [
    "#### 3️⃣ Create your first app:"
   ]
  },
  {
   "cell_type": "markdown",
   "metadata": {},
   "source": [
    "````bash\n",
    "python manage.py startapp pages"
   ]
  },
  {
   "cell_type": "markdown",
   "metadata": {},
   "source": [
    "#### 4️⃣ Register the app in mysite/settings.py"
   ]
  },
  {
   "cell_type": "code",
   "execution_count": null,
   "metadata": {},
   "outputs": [],
   "source": [
    "INSTALLED_APPS = [\n",
    "    ...,\n",
    "    'pages',\n",
    "]"
   ]
  },
  {
   "cell_type": "markdown",
   "metadata": {},
   "source": [
    "##### 5️⃣ Create a view in pages/views.py:"
   ]
  },
  {
   "cell_type": "code",
   "execution_count": null,
   "metadata": {},
   "outputs": [],
   "source": [
    "from django.http import HttpResponse\n",
    "\n",
    "def home(request):\n",
    "    return HttpResponse(\"Hello from Django!\")"
   ]
  },
  {
   "cell_type": "markdown",
   "metadata": {},
   "source": [
    "##### 6️⃣ Set up a URL in pages/urls.py (create this file):"
   ]
  },
  {
   "cell_type": "code",
   "execution_count": null,
   "metadata": {},
   "outputs": [],
   "source": [
    "from django.urls import path\n",
    "from . import views\n",
    "\n",
    "urlpatterns = [\n",
    "    path('', views.home, name='home'),\n",
    "]"
   ]
  },
  {
   "cell_type": "markdown",
   "metadata": {},
   "source": [
    "#### 7️⃣ Hook it into the main mysite/urls.py:"
   ]
  },
  {
   "cell_type": "code",
   "execution_count": null,
   "metadata": {},
   "outputs": [],
   "source": [
    "from django.contrib import admin\n",
    "from django.urls import path, include\n",
    "\n",
    "urlpatterns = [\n",
    "    path('admin/', admin.site.urls),\n",
    "    path('', include('pages.urls')),\n",
    "]"
   ]
  },
  {
   "cell_type": "markdown",
   "metadata": {},
   "source": [
    "Now `http://127.0.0.1:8000/` shows: Hello from Django!"
   ]
  }
 ],
 "metadata": {
  "language_info": {
   "name": "python"
  }
 },
 "nbformat": 4,
 "nbformat_minor": 2
}
