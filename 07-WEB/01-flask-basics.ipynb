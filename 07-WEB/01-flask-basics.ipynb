{
 "cells": [
  {
   "cell_type": "markdown",
   "metadata": {},
   "source": [
    "# 🌐 Flask — Python Web Framework\n",
    "\n",
    "Flask is a lightweight web framework for Python.  \n",
    "It’s great for building web apps and REST APIs quickly.\n",
    "\n",
    "✅ Easy to learn  \n",
    "✅ Minimal structure  \n",
    "✅ Highly flexible\n",
    "\n",
    "Install Flask:\n",
    "```bash\n",
    "pip install flask"
   ]
  },
  {
   "cell_type": "markdown",
   "metadata": {},
   "source": [
    "✅ First Flask App"
   ]
  },
  {
   "cell_type": "code",
   "execution_count": null,
   "metadata": {},
   "outputs": [],
   "source": [
    "from flask import Flask\n",
    "\n",
    "app = Flask(__name__)\n",
    "\n",
    "@app.route(\"/\")\n",
    "def home():\n",
    "    return \"Hello, Flask!\"\n",
    "\n",
    "if __name__ == \"__main__\":\n",
    "    app.run(debug=True)"
   ]
  },
  {
   "cell_type": "markdown",
   "metadata": {},
   "source": [
    "🔥 What This Does:\n",
    "\n",
    "- `@app.route(\"/\")` defines a URL route\n",
    "\n",
    "- When you go to `http://localhost:5000/`, it returns `\"Hello, Flask!\"`\n",
    "\n",
    "- `debug=True` auto-reloads your server when you save\n"
   ]
  },
  {
   "cell_type": "markdown",
   "metadata": {},
   "source": [
    "✅ Add More Routes"
   ]
  },
  {
   "cell_type": "code",
   "execution_count": null,
   "metadata": {},
   "outputs": [],
   "source": [
    "@app.route(\"/about\")\n",
    "def about():\n",
    "    return \"This is the about page.\""
   ]
  },
  {
   "cell_type": "markdown",
   "metadata": {},
   "source": [
    "✅ Dynamic URL"
   ]
  },
  {
   "cell_type": "code",
   "execution_count": null,
   "metadata": {},
   "outputs": [],
   "source": [
    "@app.route(\"/user/<name>\")\n",
    "def greet(name):\n",
    "    return f\"Hello, {name}!\""
   ]
  },
  {
   "cell_type": "code",
   "execution_count": null,
   "metadata": {},
   "outputs": [],
   "source": [
    "from flask import Flask\n",
    "\n",
    "app = Flask(__name__)\n",
    "\n",
    "@app.route(\"/\")\n",
    "def home():\n",
    "    return \"Welcome to my site!<br>Check out /contact or /user/yourname\"\n",
    "\n",
    "@app.route(\"/contact\")\n",
    "def contact():\n",
    "    return \"22244556\"\n",
    "\n",
    "@app.route(\"/user/\")\n",
    "@app.route(\"/user/<name>\")\n",
    "def greet(name=\"guest\"):\n",
    "    return f\"Hello {name}!\"\n",
    "\n",
    "@app.route(\"/html\")\n",
    "def html_example():\n",
    "    return \"<h1>Welcome</h1><p>This is a paragraph.</p>\"\n",
    "\n",
    "if __name__ == \"__main__\":\n",
    "    app.run(debug=True)  "
   ]
  }
 ],
 "metadata": {
  "kernelspec": {
   "display_name": "Python 3",
   "language": "python",
   "name": "python3"
  },
  "language_info": {
   "codemirror_mode": {
    "name": "ipython",
    "version": 3
   },
   "file_extension": ".py",
   "mimetype": "text/x-python",
   "name": "python",
   "nbconvert_exporter": "python",
   "pygments_lexer": "ipython3",
   "version": "3.12.1"
  }
 },
 "nbformat": 4,
 "nbformat_minor": 2
}
