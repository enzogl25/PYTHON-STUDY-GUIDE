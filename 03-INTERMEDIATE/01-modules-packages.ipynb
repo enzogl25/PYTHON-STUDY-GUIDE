{
 "cells": [
  {
   "cell_type": "markdown",
   "metadata": {},
   "source": [
    "# 📦 Python Modules and Packages\n",
    "\n",
    "As your programs grow, you can organize your code into **modules** and **packages** to keep things clean and reusable.\n",
    "\n",
    "- A **module** is any `.py` file that contains Python code.\n",
    "- A **package** is a folder with an `__init__.py` file (can be empty), used to group modules."
   ]
  },
  {
   "cell_type": "markdown",
   "metadata": {},
   "source": [
    "✅ Using Built-in Modules"
   ]
  },
  {
   "cell_type": "code",
   "execution_count": 1,
   "metadata": {},
   "outputs": [
    {
     "name": "stdout",
     "output_type": "stream",
     "text": [
      "Square root of 16: 4.0\n",
      "Random number (1-10): 7\n",
      "Today is: 2025-03-21\n"
     ]
    }
   ],
   "source": [
    "import math\n",
    "import random\n",
    "import datetime\n",
    "\n",
    "print(\"Square root of 16:\", math.sqrt(16))\n",
    "print(\"Random number (1-10):\", random.randint(1, 10))\n",
    "print(\"Today is:\", datetime.date.today())"
   ]
  },
  {
   "cell_type": "markdown",
   "metadata": {},
   "source": [
    "✅ Creating Your Own Module"
   ]
  },
  {
   "cell_type": "markdown",
   "metadata": {},
   "source": [
    "Let’s create a simple module of your own!\n",
    "\n",
    "🛠️ Step 1 — Create a new file `my_utils.py` with this code:\n",
    "```python\n",
    "def greet(name):\n",
    "    return f\"Hello, {name}!\"\n",
    "\n",
    "def add(a, b):\n",
    "    return a + b"
   ]
  },
  {
   "cell_type": "markdown",
   "metadata": {},
   "source": [
    "🧪 Step 2 — In your notebook or main file, import and use it:"
   ]
  },
  {
   "cell_type": "markdown",
   "metadata": {},
   "source": [
    "**Code Cell:**\n",
    "```python\n",
    "import my_utils\n",
    "\n",
    "print(my_utils.greet(\"Enzo\"))\n",
    "print(my_utils.add(5, 3))"
   ]
  },
  {
   "cell_type": "markdown",
   "metadata": {},
   "source": [
    "✅ From ... Import"
   ]
  },
  {
   "cell_type": "code",
   "execution_count": 2,
   "metadata": {},
   "outputs": [
    {
     "name": "stdout",
     "output_type": "stream",
     "text": [
      "Pi is: 3.141592653589793\n",
      "Ceil of 3.2: 4\n"
     ]
    }
   ],
   "source": [
    "from math import pi, ceil\n",
    "\n",
    "print(\"Pi is:\", pi)\n",
    "print(\"Ceil of 3.2:\", ceil(3.2))"
   ]
  }
 ],
 "metadata": {
  "kernelspec": {
   "display_name": "Python 3",
   "language": "python",
   "name": "python3"
  },
  "language_info": {
   "codemirror_mode": {
    "name": "ipython",
    "version": 3
   },
   "file_extension": ".py",
   "mimetype": "text/x-python",
   "name": "python",
   "nbconvert_exporter": "python",
   "pygments_lexer": "ipython3",
   "version": "3.12.1"
  }
 },
 "nbformat": 4,
 "nbformat_minor": 2
}
